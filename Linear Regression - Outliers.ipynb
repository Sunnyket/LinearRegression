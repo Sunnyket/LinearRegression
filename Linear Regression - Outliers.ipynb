{
 "cells": [
  {
   "cell_type": "code",
   "execution_count": 32,
   "id": "bd6fd63a",
   "metadata": {
    "id": "bd6fd63a"
   },
   "outputs": [],
   "source": [
    "\n",
    "import matplotlib.pyplot as plt\n",
    "from sklearn.linear_model import LinearRegression\n",
    "import numpy as np\n",
    "import pandas as pd\n",
    "import sklearn.datasets as dt\n",
    "\n",
    "import seaborn as sns\n",
    "\n",
    "from sklearn.metrics import mean_squared_error\n",
    "from scipy import stats\n",
    "from sklearn.preprocessing import MinMaxScaler,StandardScaler, quantile_transform\n",
    "import copy\n"
   ]
  },
  {
   "cell_type": "markdown",
   "id": "f0309c8a",
   "metadata": {
    "id": "f0309c8a"
   },
   "source": [
    "## Generating data with a single feature in independent variable"
   ]
  },
  {
   "cell_type": "code",
   "execution_count": 2,
   "id": "29830109",
   "metadata": {
    "colab": {
     "base_uri": "https://localhost:8080/"
    },
    "id": "29830109",
    "outputId": "05958414-3324-4bd3-fada-b5859b7282e4"
   },
   "outputs": [
    {
     "data": {
      "text/plain": [
       "(200, 1)"
      ]
     },
     "execution_count": 2,
     "metadata": {},
     "output_type": "execute_result"
    }
   ],
   "source": [
    "\n",
    "x,y = dt.make_regression(n_samples=200,\n",
    "                             n_features=1,\n",
    "                             noise=15,\n",
    "                             random_state=1)\n",
    "x.shape\n",
    "\n"
   ]
  },
  {
   "cell_type": "markdown",
   "id": "666bc416",
   "metadata": {
    "id": "666bc416"
   },
   "source": [
    "## Visualize the data points without any Outliers"
   ]
  },
  {
   "cell_type": "code",
   "execution_count": 3,
   "id": "d71227cb",
   "metadata": {
    "colab": {
     "base_uri": "https://localhost:8080/",
     "height": 283
    },
    "id": "d71227cb",
    "outputId": "647bdc52-b453-403b-9b2e-e005491f99a3"
   },
   "outputs": [
    {
     "data": {
      "text/plain": [
       "<matplotlib.collections.PathCollection at 0x242ac667340>"
      ]
     },
     "execution_count": 3,
     "metadata": {},
     "output_type": "execute_result"
    },
    {
     "data": {
      "image/png": "[encoded data removed]",
      "text/plain": [
       "<Figure size 432x288 with 1 Axes>"
      ]
     },
     "metadata": {
      "needs_background": "light"
     },
     "output_type": "display_data"
    }
   ],
   "source": [
    "plt.scatter(x,y)"
   ]
  },
  {
   "cell_type": "markdown",
   "id": "a452f935",
   "metadata": {
    "id": "a452f935"
   },
   "source": [
    "## Fitting a regression line to our model"
   ]
  },
  {
   "cell_type": "code",
   "execution_count": 4,
   "id": "e866b669",
   "metadata": {
    "colab": {
     "base_uri": "https://localhost:8080/",
     "height": 300
    },
    "id": "e866b669",
    "outputId": "b5fb30e3-68f5-4202-91c7-94cadd6649d2"
   },
   "outputs": [
    {
     "name": "stdout",
     "output_type": "stream",
     "text": [
      "Coefficient [87.21859652]\n",
      "Intercept -0.31273696519580696\n"
     ]
    },
    {
     "data": {
      "image/png": "[encoded data removed]",
      "text/plain": [
       "<Figure size 432x288 with 1 Axes>"
      ]
     },
     "metadata": {
      "needs_background": "light"
     },
     "output_type": "display_data"
    }
   ],
   "source": [
    "regr = LinearRegression()\n",
    "regr.fit(x, y)\n",
    "plt.figure(figsize = (6, 4))\n",
    "plt.scatter(x, y,color = \"red\", linewidth=0.5)\n",
    "plt.plot([x.min(),x.max()],[regr.coef_*x.min()+regr.intercept_,regr.coef_*x.max()+regr.intercept_])\n",
    "print(\"Coefficient\", regr.coef_)\n",
    "print(\"Intercept\", regr.intercept_)"
   ]
  },
  {
   "cell_type": "markdown",
   "id": "2193790f",
   "metadata": {
    "id": "2193790f"
   },
   "source": [
    "## Adding Outliers at extreme X positions in the created data"
   ]
  },
  {
   "cell_type": "code",
   "execution_count": 5,
   "id": "97577d2e",
   "metadata": {
    "id": "97577d2e"
   },
   "outputs": [],
   "source": [
    "def showmodel(x,y,numofoutliers,rangeofoutlier,print_graph = False,figuresize = (12,4)):\n",
    "  \n",
    "    xwithoutliers = []\n",
    "    outliersx =[]\n",
    "    outliersy = []\n",
    "    ywithoutliers = []\n",
    "    coeficient = []\n",
    "    intercept = []\n",
    "    np.random.seed(0)\n",
    "    outliersx.append(np.random.uniform(rangeofoutlier[0],rangeofoutlier[1], size = (numofoutliers)))\n",
    "    outliersx.append(np.random.uniform(-rangeofoutlier[0],-rangeofoutlier[1], size = (numofoutliers)))    \n",
    "    outliersy.append(np.random.uniform(y.max(),y.max()+numofoutliers, size = (numofoutliers)))\n",
    "    outliersy.append(np.random.uniform(y.mean(),y.mean()+numofoutliers, size = (numofoutliers)))\n",
    "    outliersy.append(np.random.uniform(y.min(),y.min()+numofoutliers, size = (numofoutliers)))\n",
    "    xwithoutliers.append(np.append(x, outliersx[0]))\n",
    "    xwithoutliers.append(np.append(x, outliersx[1]))\n",
    "    plt.figure(figsize = figuresize)\n",
    "    for i in range(6):\n",
    "        ywithoutliers.append(np.append(y, outliersy[i%3]))\n",
    "        regr = LinearRegression()\n",
    "        regr.fit(xwithoutliers[i//3].reshape(-1,1), ywithoutliers[i]) ## // is used to get integer value\n",
    "        coeficient.append(regr.coef_)\n",
    "        intercept.append(regr.intercept_)\n",
    "        if print_graph == True:\n",
    "            plt.subplot(2,3,i+1)\n",
    "            plt.scatter(x, y,color = \"red\", linewidth=1)\n",
    "            plt.scatter(outliersx[i//3],outliersy[i%3], color = \"blue\", linewidth = 0.5)\n",
    "            plt.plot([xwithoutliers[i//3].min(),xwithoutliers[i//3].max()],[int(regr.coef_)*xwithoutliers[i//3].min()+regr.intercept_,int(regr.coef_)*xwithoutliers[i//3].max()+regr.intercept_])\n",
    "            title = \"coeficient: \" + str(float(regr.coef_))\n",
    "            plt.title(title)\n",
    "    if print_graph == True:\n",
    "        plt.subplots_adjust(left=0.1,\n",
    "                        bottom=0.1, \n",
    "                        right=0.9, \n",
    "                        top=0.9, \n",
    "                        wspace=0.4, \n",
    "                        hspace=0.4)\n",
    "        plt.show()\n",
    "    return coeficient,intercept"
   ]
  },
  {
   "cell_type": "code",
   "execution_count": 6,
   "id": "73ed7aba",
   "metadata": {
    "colab": {
     "base_uri": "https://localhost:8080/",
     "height": 294
    },
    "id": "73ed7aba",
    "outputId": "fbae93d6-0ae0-46e9-a200-c732b21e50b3"
   },
   "outputs": [
    {
     "data": {
      "image/png": "[encoded data removed]",
      "text/plain": [
       "<Figure size 864x288 with 6 Axes>"
      ]
     },
     "metadata": {
      "needs_background": "light"
     },
     "output_type": "display_data"
    }
   ],
   "source": [
    "coeficient,intercept = showmodel(x,y,numofoutliers=5,rangeofoutlier = (2*x.max() - 1,2*x.max()) , print_graph=True)"
   ]
  },
  {
   "cell_type": "code",
   "execution_count": 12,
   "id": "e356a2c2",
   "metadata": {
    "id": "e356a2c2"
   },
   "outputs": [],
   "source": [
    "def effectofoutlier(x,y,numofoutliers,rangeofoutlier):    \n",
    "    table1 = pd.DataFrame({\n",
    "                'Position':[],\n",
    "                'Number of outliers': [],\n",
    "                'Regression coefficient':[],\n",
    "                'Regression intercept':[],\n",
    "                \n",
    "                })\n",
    "    table2 = pd.DataFrame({\n",
    "                'Position':[],\n",
    "                'Number of outliers': [],\n",
    "                'Regression coefficient':[],\n",
    "                'Regression intercept':[],\n",
    "              \n",
    "                })\n",
    "    table3 = pd.DataFrame({\n",
    "                'Position':[],\n",
    "                'Number of outliers': [],\n",
    "                'Regression coefficient':[],\n",
    "                'Regression intercept':[],\n",
    "                \n",
    "                })\n",
    "    table4 = pd.DataFrame({\n",
    "                'Position':[],\n",
    "                'Number of outliers': [],\n",
    "                'Regression coefficient':[],\n",
    "                'Regression intercept':[],\n",
    "                \n",
    "                })\n",
    "    table5 = pd.DataFrame({\n",
    "                'Position':[],\n",
    "                'Number of outliers': [],\n",
    "                'Regression coefficient':[],\n",
    "                'Regression intercept':[],\n",
    "               \n",
    "                })\n",
    "    table6 = pd.DataFrame({\n",
    "                'Position':[],\n",
    "                'Number of outliers': [],\n",
    "                'Regression coefficient':[],\n",
    "                'Regression intercept':[],\n",
    "                \n",
    "                })\n",
    "    for i in range(numofoutliers +1):\n",
    "        coeficient,intercept = showmodel(x,y,i,rangeofoutlier )\n",
    "        table1.loc[len(table1.index )] = [str(1),str(i),coeficient[0], intercept[0]]\n",
    "        table2.loc[len(table2.index )] = [str(2),str(i),coeficient[1], intercept[1]]\n",
    "        table3.loc[len(table3.index )] = [str(3),str(i),coeficient[2], intercept[2]]\n",
    "        table4.loc[len(table4.index )] = [str(4),str(i),coeficient[3], intercept[3]]\n",
    "        table5.loc[len(table5.index )] = [str(5),str(i),coeficient[4], intercept[4]]\n",
    "        table6.loc[len(table6.index )] = [str(6),str(i),coeficient[5], intercept[5]]\n",
    "    table = table1.append(table2.append(table3.append(table4.append(table5.append(table6)))))\n",
    "    table.set_index(np.arange(len(table.index)),inplace = True)\n",
    "    return table\n"
   ]
  },
  {
   "cell_type": "code",
   "execution_count": 13,
   "id": "70e44e7a",
   "metadata": {
    "colab": {
     "base_uri": "https://localhost:8080/",
     "height": 1000
    },
    "id": "70e44e7a",
    "outputId": "14088daf-7611-4ee7-d3d7-377c63f46e82"
   },
   "outputs": [
    {
     "name": "stderr",
     "output_type": "stream",
     "text": [
      "C:\\Users\\44743\\anaconda3\\lib\\site-packages\\numpy\\core\\_asarray.py:102: VisibleDeprecationWarning: Creating an ndarray from ragged nested sequences (which is a list-or-tuple of lists-or-tuples-or ndarrays with different lengths or shapes) is deprecated. If you meant to do this, you must specify 'dtype=object' when creating the ndarray.\n",
      "  return array(a, dtype, copy=False, order=order)\n"
     ]
    },
    {
     "data": {
      "text/html": [
       "<div>\n",
       "<style scoped>\n",
       "    .dataframe tbody tr th:only-of-type {\n",
       "        vertical-align: middle;\n",
       "    }\n",
       "\n",
       "    .dataframe tbody tr th {\n",
       "        vertical-align: top;\n",
       "    }\n",
       "\n",
       "    .dataframe thead th {\n",
       "        text-align: right;\n",
       "    }\n",
       "</style>\n",
       "<table border=\"1\" class=\"dataframe\">\n",
       "  <thead>\n",
       "    <tr style=\"text-align: right;\">\n",
       "      <th></th>\n",
       "      <th>Position</th>\n",
       "      <th>Number of outliers</th>\n",
       "      <th>Regression coefficient</th>\n",
       "      <th>Regression intercept</th>\n",
       "    </tr>\n",
       "  </thead>\n",
       "  <tbody>\n",
       "    <tr>\n",
       "      <th>0</th>\n",
       "      <td>1</td>\n",
       "      <td>0</td>\n",
       "      <td>[87.21859651708925]</td>\n",
       "      <td>-0.312737</td>\n",
       "    </tr>\n",
       "    <tr>\n",
       "      <th>1</th>\n",
       "      <td>1</td>\n",
       "      <td>1</td>\n",
       "      <td>[82.51137487759621]</td>\n",
       "      <td>-0.677086</td>\n",
       "    </tr>\n",
       "    <tr>\n",
       "      <th>2</th>\n",
       "      <td>1</td>\n",
       "      <td>2</td>\n",
       "      <td>[78.36219099410407]</td>\n",
       "      <td>-0.967497</td>\n",
       "    </tr>\n",
       "    <tr>\n",
       "      <th>3</th>\n",
       "      <td>1</td>\n",
       "      <td>3</td>\n",
       "      <td>[75.32580819348418]</td>\n",
       "      <td>-1.197014</td>\n",
       "    </tr>\n",
       "    <tr>\n",
       "      <th>4</th>\n",
       "      <td>1</td>\n",
       "      <td>4</td>\n",
       "      <td>[72.89503315543182]</td>\n",
       "      <td>-1.388390</td>\n",
       "    </tr>\n",
       "    <tr>\n",
       "      <th>5</th>\n",
       "      <td>1</td>\n",
       "      <td>5</td>\n",
       "      <td>[71.0318708304812]</td>\n",
       "      <td>-1.550374</td>\n",
       "    </tr>\n",
       "    <tr>\n",
       "      <th>6</th>\n",
       "      <td>2</td>\n",
       "      <td>0</td>\n",
       "      <td>[87.21859651708925]</td>\n",
       "      <td>-0.312737</td>\n",
       "    </tr>\n",
       "    <tr>\n",
       "      <th>7</th>\n",
       "      <td>2</td>\n",
       "      <td>1</td>\n",
       "      <td>[77.77709794905354]</td>\n",
       "      <td>-1.043529</td>\n",
       "    </tr>\n",
       "    <tr>\n",
       "      <th>8</th>\n",
       "      <td>2</td>\n",
       "      <td>2</td>\n",
       "      <td>[69.77360867626528]</td>\n",
       "      <td>-1.603738</td>\n",
       "    </tr>\n",
       "    <tr>\n",
       "      <th>9</th>\n",
       "      <td>2</td>\n",
       "      <td>3</td>\n",
       "      <td>[63.62006353725387]</td>\n",
       "      <td>-2.068644</td>\n",
       "    </tr>\n",
       "    <tr>\n",
       "      <th>10</th>\n",
       "      <td>2</td>\n",
       "      <td>4</td>\n",
       "      <td>[58.621941064375896]</td>\n",
       "      <td>-2.462707</td>\n",
       "    </tr>\n",
       "    <tr>\n",
       "      <th>11</th>\n",
       "      <td>2</td>\n",
       "      <td>5</td>\n",
       "      <td>[54.6851299095426]</td>\n",
       "      <td>-2.803387</td>\n",
       "    </tr>\n",
       "    <tr>\n",
       "      <th>12</th>\n",
       "      <td>3</td>\n",
       "      <td>0</td>\n",
       "      <td>[87.21859651708925]</td>\n",
       "      <td>-0.312737</td>\n",
       "    </tr>\n",
       "    <tr>\n",
       "      <th>13</th>\n",
       "      <td>3</td>\n",
       "      <td>1</td>\n",
       "      <td>[72.20487239078436]</td>\n",
       "      <td>-1.474830</td>\n",
       "    </tr>\n",
       "    <tr>\n",
       "      <th>14</th>\n",
       "      <td>3</td>\n",
       "      <td>2</td>\n",
       "      <td>[59.653543804048766]</td>\n",
       "      <td>-2.353193</td>\n",
       "    </tr>\n",
       "    <tr>\n",
       "      <th>15</th>\n",
       "      <td>3</td>\n",
       "      <td>3</td>\n",
       "      <td>[49.878563632144]</td>\n",
       "      <td>-3.091874</td>\n",
       "    </tr>\n",
       "    <tr>\n",
       "      <th>16</th>\n",
       "      <td>3</td>\n",
       "      <td>4</td>\n",
       "      <td>[41.971771840891336]</td>\n",
       "      <td>-3.715273</td>\n",
       "    </tr>\n",
       "    <tr>\n",
       "      <th>17</th>\n",
       "      <td>3</td>\n",
       "      <td>5</td>\n",
       "      <td>[35.531535899537]</td>\n",
       "      <td>-4.273688</td>\n",
       "    </tr>\n",
       "    <tr>\n",
       "      <th>18</th>\n",
       "      <td>4</td>\n",
       "      <td>0</td>\n",
       "      <td>[87.21859651708925]</td>\n",
       "      <td>-0.312737</td>\n",
       "    </tr>\n",
       "    <tr>\n",
       "      <th>19</th>\n",
       "      <td>4</td>\n",
       "      <td>1</td>\n",
       "      <td>[71.25671857837682]</td>\n",
       "      <td>4.099920</td>\n",
       "    </tr>\n",
       "    <tr>\n",
       "      <th>20</th>\n",
       "      <td>4</td>\n",
       "      <td>2</td>\n",
       "      <td>[59.95019455131714]</td>\n",
       "      <td>7.363655</td>\n",
       "    </tr>\n",
       "    <tr>\n",
       "      <th>21</th>\n",
       "      <td>4</td>\n",
       "      <td>3</td>\n",
       "      <td>[50.58706421456347]</td>\n",
       "      <td>10.046869</td>\n",
       "    </tr>\n",
       "    <tr>\n",
       "      <th>22</th>\n",
       "      <td>4</td>\n",
       "      <td>4</td>\n",
       "      <td>[42.11361816863287]</td>\n",
       "      <td>12.336269</td>\n",
       "    </tr>\n",
       "    <tr>\n",
       "      <th>23</th>\n",
       "      <td>4</td>\n",
       "      <td>5</td>\n",
       "      <td>[34.876529966042284]</td>\n",
       "      <td>14.239434</td>\n",
       "    </tr>\n",
       "    <tr>\n",
       "      <th>24</th>\n",
       "      <td>5</td>\n",
       "      <td>0</td>\n",
       "      <td>[87.21859651708925]</td>\n",
       "      <td>-0.312737</td>\n",
       "    </tr>\n",
       "    <tr>\n",
       "      <th>25</th>\n",
       "      <td>5</td>\n",
       "      <td>1</td>\n",
       "      <td>[76.2945402248904]</td>\n",
       "      <td>2.707216</td>\n",
       "    </tr>\n",
       "    <tr>\n",
       "      <th>26</th>\n",
       "      <td>5</td>\n",
       "      <td>2</td>\n",
       "      <td>[68.70939966866169]</td>\n",
       "      <td>4.897799</td>\n",
       "    </tr>\n",
       "    <tr>\n",
       "      <th>27</th>\n",
       "      <td>5</td>\n",
       "      <td>3</td>\n",
       "      <td>[62.43909249897343]</td>\n",
       "      <td>6.694414</td>\n",
       "    </tr>\n",
       "    <tr>\n",
       "      <th>28</th>\n",
       "      <td>5</td>\n",
       "      <td>4</td>\n",
       "      <td>[56.58865916193124]</td>\n",
       "      <td>8.272535</td>\n",
       "    </tr>\n",
       "    <tr>\n",
       "      <th>29</th>\n",
       "      <td>5</td>\n",
       "      <td>5</td>\n",
       "      <td>[51.44681933861512]</td>\n",
       "      <td>9.624778</td>\n",
       "    </tr>\n",
       "    <tr>\n",
       "      <th>30</th>\n",
       "      <td>6</td>\n",
       "      <td>0</td>\n",
       "      <td>[87.21859651708925]</td>\n",
       "      <td>-0.312737</td>\n",
       "    </tr>\n",
       "    <tr>\n",
       "      <th>31</th>\n",
       "      <td>6</td>\n",
       "      <td>1</td>\n",
       "      <td>[82.22403673732735]</td>\n",
       "      <td>1.068008</td>\n",
       "    </tr>\n",
       "    <tr>\n",
       "      <th>32</th>\n",
       "      <td>6</td>\n",
       "      <td>2</td>\n",
       "      <td>[79.02908106610438]</td>\n",
       "      <td>1.992565</td>\n",
       "    </tr>\n",
       "    <tr>\n",
       "      <th>33</th>\n",
       "      <td>6</td>\n",
       "      <td>3</td>\n",
       "      <td>[76.35264964902058]</td>\n",
       "      <td>2.758905</td>\n",
       "    </tr>\n",
       "    <tr>\n",
       "      <th>34</th>\n",
       "      <td>6</td>\n",
       "      <td>4</td>\n",
       "      <td>[73.47018254322133]</td>\n",
       "      <td>3.532741</td>\n",
       "    </tr>\n",
       "    <tr>\n",
       "      <th>35</th>\n",
       "      <td>6</td>\n",
       "      <td>5</td>\n",
       "      <td>[70.86922594858493]</td>\n",
       "      <td>4.215690</td>\n",
       "    </tr>\n",
       "  </tbody>\n",
       "</table>\n",
       "</div>"
      ],
      "text/plain": [
       "   Position Number of outliers Regression coefficient  Regression intercept\n",
       "0         1                  0    [87.21859651708925]             -0.312737\n",
       "1         1                  1    [82.51137487759621]             -0.677086\n",
       "2         1                  2    [78.36219099410407]             -0.967497\n",
       "3         1                  3    [75.32580819348418]             -1.197014\n",
       "4         1                  4    [72.89503315543182]             -1.388390\n",
       "5         1                  5     [71.0318708304812]             -1.550374\n",
       "6         2                  0    [87.21859651708925]             -0.312737\n",
       "7         2                  1    [77.77709794905354]             -1.043529\n",
       "8         2                  2    [69.77360867626528]             -1.603738\n",
       "9         2                  3    [63.62006353725387]             -2.068644\n",
       "10        2                  4   [58.621941064375896]             -2.462707\n",
       "11        2                  5     [54.6851299095426]             -2.803387\n",
       "12        3                  0    [87.21859651708925]             -0.312737\n",
       "13        3                  1    [72.20487239078436]             -1.474830\n",
       "14        3                  2   [59.653543804048766]             -2.353193\n",
       "15        3                  3      [49.878563632144]             -3.091874\n",
       "16        3                  4   [41.971771840891336]             -3.715273\n",
       "17        3                  5      [35.531535899537]             -4.273688\n",
       "18        4                  0    [87.21859651708925]             -0.312737\n",
       "19        4                  1    [71.25671857837682]              4.099920\n",
       "20        4                  2    [59.95019455131714]              7.363655\n",
       "21        4                  3    [50.58706421456347]             10.046869\n",
       "22        4                  4    [42.11361816863287]             12.336269\n",
       "23        4                  5   [34.876529966042284]             14.239434\n",
       "24        5                  0    [87.21859651708925]             -0.312737\n",
       "25        5                  1     [76.2945402248904]              2.707216\n",
       "26        5                  2    [68.70939966866169]              4.897799\n",
       "27        5                  3    [62.43909249897343]              6.694414\n",
       "28        5                  4    [56.58865916193124]              8.272535\n",
       "29        5                  5    [51.44681933861512]              9.624778\n",
       "30        6                  0    [87.21859651708925]             -0.312737\n",
       "31        6                  1    [82.22403673732735]              1.068008\n",
       "32        6                  2    [79.02908106610438]              1.992565\n",
       "33        6                  3    [76.35264964902058]              2.758905\n",
       "34        6                  4    [73.47018254322133]              3.532741\n",
       "35        6                  5    [70.86922594858493]              4.215690"
      ]
     },
     "execution_count": 13,
     "metadata": {},
     "output_type": "execute_result"
    },
    {
     "data": {
      "text/plain": [
       "<Figure size 864x288 with 0 Axes>"
      ]
     },
     "metadata": {},
     "output_type": "display_data"
    },
    {
     "data": {
      "text/plain": [
       "<Figure size 864x288 with 0 Axes>"
      ]
     },
     "metadata": {},
     "output_type": "display_data"
    },
    {
     "data": {
      "text/plain": [
       "<Figure size 864x288 with 0 Axes>"
      ]
     },
     "metadata": {},
     "output_type": "display_data"
    },
    {
     "data": {
      "text/plain": [
       "<Figure size 864x288 with 0 Axes>"
      ]
     },
     "metadata": {},
     "output_type": "display_data"
    },
    {
     "data": {
      "text/plain": [
       "<Figure size 864x288 with 0 Axes>"
      ]
     },
     "metadata": {},
     "output_type": "display_data"
    },
    {
     "data": {
      "text/plain": [
       "<Figure size 864x288 with 0 Axes>"
      ]
     },
     "metadata": {},
     "output_type": "display_data"
    }
   ],
   "source": [
    "table1 = effectofoutlier(x,y,5,(2*x.max() - 1,2*x.max()))\n",
    "table1"
   ]
  },
  {
   "cell_type": "markdown",
   "id": "eb4d4e70",
   "metadata": {
    "id": "eb4d4e70"
   },
   "source": [
    "## Increasing the magnitude of outlier"
   ]
  },
  {
   "cell_type": "code",
   "execution_count": 14,
   "id": "e1af19e6",
   "metadata": {
    "colab": {
     "base_uri": "https://localhost:8080/",
     "height": 1000
    },
    "id": "e1af19e6",
    "outputId": "9fbaa176-e185-46b4-feee-fd83917e98fe"
   },
   "outputs": [
    {
     "name": "stderr",
     "output_type": "stream",
     "text": [
      "C:\\Users\\44743\\anaconda3\\lib\\site-packages\\numpy\\core\\_asarray.py:102: VisibleDeprecationWarning: Creating an ndarray from ragged nested sequences (which is a list-or-tuple of lists-or-tuples-or ndarrays with different lengths or shapes) is deprecated. If you meant to do this, you must specify 'dtype=object' when creating the ndarray.\n",
      "  return array(a, dtype, copy=False, order=order)\n",
      "C:\\Users\\44743\\anaconda3\\lib\\site-packages\\numpy\\core\\_asarray.py:102: VisibleDeprecationWarning: Creating an ndarray from ragged nested sequences (which is a list-or-tuple of lists-or-tuples-or ndarrays with different lengths or shapes) is deprecated. If you meant to do this, you must specify 'dtype=object' when creating the ndarray.\n",
      "  return array(a, dtype, copy=False, order=order)\n",
      "C:\\Users\\44743\\anaconda3\\lib\\site-packages\\numpy\\core\\_asarray.py:102: VisibleDeprecationWarning: Creating an ndarray from ragged nested sequences (which is a list-or-tuple of lists-or-tuples-or ndarrays with different lengths or shapes) is deprecated. If you meant to do this, you must specify 'dtype=object' when creating the ndarray.\n",
      "  return array(a, dtype, copy=False, order=order)\n",
      "C:\\Users\\44743\\anaconda3\\lib\\site-packages\\numpy\\core\\_asarray.py:102: VisibleDeprecationWarning: Creating an ndarray from ragged nested sequences (which is a list-or-tuple of lists-or-tuples-or ndarrays with different lengths or shapes) is deprecated. If you meant to do this, you must specify 'dtype=object' when creating the ndarray.\n",
      "  return array(a, dtype, copy=False, order=order)\n",
      "C:\\Users\\44743\\AppData\\Local\\Temp/ipykernel_2428/3356203501.py:17: RuntimeWarning: More than 20 figures have been opened. Figures created through the pyplot interface (`matplotlib.pyplot.figure`) are retained until explicitly closed and may consume too much memory. (To control this warning, see the rcParam `figure.max_open_warning`).\n",
      "  plt.figure(figsize = figuresize)\n"
     ]
    },
    {
     "data": {
      "text/html": [
       "<div>\n",
       "<style scoped>\n",
       "    .dataframe tbody tr th:only-of-type {\n",
       "        vertical-align: middle;\n",
       "    }\n",
       "\n",
       "    .dataframe tbody tr th {\n",
       "        vertical-align: top;\n",
       "    }\n",
       "\n",
       "    .dataframe thead th {\n",
       "        text-align: right;\n",
       "    }\n",
       "</style>\n",
       "<table border=\"1\" class=\"dataframe\">\n",
       "  <thead>\n",
       "    <tr style=\"text-align: right;\">\n",
       "      <th></th>\n",
       "      <th>Position</th>\n",
       "      <th>Number of outliers</th>\n",
       "      <th>Regression coefficient for range (2,5)</th>\n",
       "      <th>Regression coefficient for range (5.3,6.3)</th>\n",
       "      <th>Regression coefficient for range (6.5,7.5)</th>\n",
       "      <th>Regression coefficient for range (7.8,8.8)</th>\n",
       "      <th>Regression coefficient for range (9.1,10.1)</th>\n",
       "    </tr>\n",
       "  </thead>\n",
       "  <tbody>\n",
       "    <tr>\n",
       "      <th>0</th>\n",
       "      <td>1</td>\n",
       "      <td>0</td>\n",
       "      <td>[87.21859651708925]</td>\n",
       "      <td>[87.21859651708925]</td>\n",
       "      <td>[87.21859651708925]</td>\n",
       "      <td>[87.21859651708925]</td>\n",
       "      <td>[87.21859651708925]</td>\n",
       "    </tr>\n",
       "    <tr>\n",
       "      <th>1</th>\n",
       "      <td>1</td>\n",
       "      <td>1</td>\n",
       "      <td>[82.51137487759621]</td>\n",
       "      <td>[78.39817557830091]</td>\n",
       "      <td>[73.67938450879845]</td>\n",
       "      <td>[68.67225733900938]</td>\n",
       "      <td>[63.628033928776105]</td>\n",
       "    </tr>\n",
       "    <tr>\n",
       "      <th>2</th>\n",
       "      <td>1</td>\n",
       "      <td>2</td>\n",
       "      <td>[78.36219099410407]</td>\n",
       "      <td>[71.71388265510436]</td>\n",
       "      <td>[64.82209809282261]</td>\n",
       "      <td>[58.19434188628597]</td>\n",
       "      <td>[52.10274206024243]</td>\n",
       "    </tr>\n",
       "    <tr>\n",
       "      <th>3</th>\n",
       "      <td>1</td>\n",
       "      <td>3</td>\n",
       "      <td>[75.32580819348418]</td>\n",
       "      <td>[67.1141181527603]</td>\n",
       "      <td>[59.16389615717183]</td>\n",
       "      <td>[51.9782895909749]</td>\n",
       "      <td>[45.71899588966846]</td>\n",
       "    </tr>\n",
       "    <tr>\n",
       "      <th>4</th>\n",
       "      <td>1</td>\n",
       "      <td>4</td>\n",
       "      <td>[72.89503315543182]</td>\n",
       "      <td>[63.64266713432849]</td>\n",
       "      <td>[55.13435865897117]</td>\n",
       "      <td>[47.773965325571886]</td>\n",
       "      <td>[41.586878894845356]</td>\n",
       "    </tr>\n",
       "    <tr>\n",
       "      <th>5</th>\n",
       "      <td>1</td>\n",
       "      <td>5</td>\n",
       "      <td>[71.0318708304812]</td>\n",
       "      <td>[61.047974570673496]</td>\n",
       "      <td>[52.22124717329471]</td>\n",
       "      <td>[44.826863337350524]</td>\n",
       "      <td>[38.765255061018976]</td>\n",
       "    </tr>\n",
       "    <tr>\n",
       "      <th>6</th>\n",
       "      <td>2</td>\n",
       "      <td>0</td>\n",
       "      <td>[87.21859651708925]</td>\n",
       "      <td>[87.21859651708925]</td>\n",
       "      <td>[87.21859651708925]</td>\n",
       "      <td>[87.21859651708925]</td>\n",
       "      <td>[87.21859651708925]</td>\n",
       "    </tr>\n",
       "    <tr>\n",
       "      <th>7</th>\n",
       "      <td>2</td>\n",
       "      <td>1</td>\n",
       "      <td>[77.77709794905354]</td>\n",
       "      <td>[72.72756274149867]</td>\n",
       "      <td>[67.2828201144643]</td>\n",
       "      <td>[61.74633368726051]</td>\n",
       "      <td>[56.344727924885]</td>\n",
       "    </tr>\n",
       "    <tr>\n",
       "      <th>8</th>\n",
       "      <td>2</td>\n",
       "      <td>2</td>\n",
       "      <td>[69.77360867626528]</td>\n",
       "      <td>[61.981657717475215]</td>\n",
       "      <td>[54.429909593639834]</td>\n",
       "      <td>[47.51247413922344]</td>\n",
       "      <td>[41.3940487147882]</td>\n",
       "    </tr>\n",
       "    <tr>\n",
       "      <th>9</th>\n",
       "      <td>2</td>\n",
       "      <td>3</td>\n",
       "      <td>[63.62006353725387]</td>\n",
       "      <td>[54.353816055820644]</td>\n",
       "      <td>[46.024457461992206]</td>\n",
       "      <td>[38.90101077092455]</td>\n",
       "      <td>[32.967176792603546]</td>\n",
       "    </tr>\n",
       "    <tr>\n",
       "      <th>10</th>\n",
       "      <td>2</td>\n",
       "      <td>4</td>\n",
       "      <td>[58.621941064375896]</td>\n",
       "      <td>[48.54832313641014]</td>\n",
       "      <td>[40.002452937582774]</td>\n",
       "      <td>[33.04878260600584]</td>\n",
       "      <td>[27.49059304235823]</td>\n",
       "    </tr>\n",
       "    <tr>\n",
       "      <th>11</th>\n",
       "      <td>2</td>\n",
       "      <td>5</td>\n",
       "      <td>[54.6851299095426]</td>\n",
       "      <td>[44.16893266006771]</td>\n",
       "      <td>[35.64134803130682]</td>\n",
       "      <td>[28.95708270778633]</td>\n",
       "      <td>[23.771850494338352]</td>\n",
       "    </tr>\n",
       "    <tr>\n",
       "      <th>12</th>\n",
       "      <td>3</td>\n",
       "      <td>0</td>\n",
       "      <td>[87.21859651708925]</td>\n",
       "      <td>[87.21859651708925]</td>\n",
       "      <td>[87.21859651708925]</td>\n",
       "      <td>[87.21859651708925]</td>\n",
       "      <td>[87.21859651708925]</td>\n",
       "    </tr>\n",
       "    <tr>\n",
       "      <th>13</th>\n",
       "      <td>3</td>\n",
       "      <td>1</td>\n",
       "      <td>[72.20487239078436]</td>\n",
       "      <td>[66.05327345567832]</td>\n",
       "      <td>[59.75408866482452]</td>\n",
       "      <td>[53.59454844752892]</td>\n",
       "      <td>[47.772305044656434]</td>\n",
       "    </tr>\n",
       "    <tr>\n",
       "      <th>14</th>\n",
       "      <td>3</td>\n",
       "      <td>2</td>\n",
       "      <td>[59.653543804048766]</td>\n",
       "      <td>[50.51427759564545]</td>\n",
       "      <td>[42.18507825223592]</td>\n",
       "      <td>[34.926448692701904]</td>\n",
       "      <td>[28.776509659253257]</td>\n",
       "    </tr>\n",
       "    <tr>\n",
       "      <th>15</th>\n",
       "      <td>3</td>\n",
       "      <td>3</td>\n",
       "      <td>[49.878563632144]</td>\n",
       "      <td>[39.37434700736918]</td>\n",
       "      <td>[30.599907011364934]</td>\n",
       "      <td>[23.549424681534237]</td>\n",
       "      <td>[17.997647830501084]</td>\n",
       "    </tr>\n",
       "    <tr>\n",
       "      <th>16</th>\n",
       "      <td>3</td>\n",
       "      <td>4</td>\n",
       "      <td>[41.971771840891336]</td>\n",
       "      <td>[30.94069573569736]</td>\n",
       "      <td>[22.35137511893415]</td>\n",
       "      <td>[15.87238729440017]</td>\n",
       "      <td>[11.047958164926287]</td>\n",
       "    </tr>\n",
       "    <tr>\n",
       "      <th>17</th>\n",
       "      <td>3</td>\n",
       "      <td>5</td>\n",
       "      <td>[35.531535899537]</td>\n",
       "      <td>[24.389993744385762]</td>\n",
       "      <td>[16.211910567605184]</td>\n",
       "      <td>[10.359120177861419]</td>\n",
       "      <td>[6.20044283396092]</td>\n",
       "    </tr>\n",
       "    <tr>\n",
       "      <th>18</th>\n",
       "      <td>4</td>\n",
       "      <td>0</td>\n",
       "      <td>[87.21859651708925]</td>\n",
       "      <td>[87.21859651708925]</td>\n",
       "      <td>[87.21859651708925]</td>\n",
       "      <td>[87.21859651708925]</td>\n",
       "      <td>[87.21859651708925]</td>\n",
       "    </tr>\n",
       "    <tr>\n",
       "      <th>19</th>\n",
       "      <td>4</td>\n",
       "      <td>1</td>\n",
       "      <td>[71.25671857837682]</td>\n",
       "      <td>[65.17505506330436]</td>\n",
       "      <td>[59.00570114789389]</td>\n",
       "      <td>[53.01210175905358]</td>\n",
       "      <td>[47.37057157099932]</td>\n",
       "    </tr>\n",
       "    <tr>\n",
       "      <th>20</th>\n",
       "      <td>4</td>\n",
       "      <td>2</td>\n",
       "      <td>[59.95019455131714]</td>\n",
       "      <td>[51.062806982306135]</td>\n",
       "      <td>[42.955971395170984]</td>\n",
       "      <td>[35.87559644360313]</td>\n",
       "      <td>[29.857341676283706]</td>\n",
       "    </tr>\n",
       "    <tr>\n",
       "      <th>21</th>\n",
       "      <td>4</td>\n",
       "      <td>3</td>\n",
       "      <td>[50.58706421456347]</td>\n",
       "      <td>[40.40162048740336]</td>\n",
       "      <td>[31.860614888191364]</td>\n",
       "      <td>[24.960950957268047]</td>\n",
       "      <td>[19.492947447795284]</td>\n",
       "    </tr>\n",
       "    <tr>\n",
       "      <th>22</th>\n",
       "      <td>4</td>\n",
       "      <td>4</td>\n",
       "      <td>[42.11361816863287]</td>\n",
       "      <td>[31.60319768720293]</td>\n",
       "      <td>[23.39081592552046]</td>\n",
       "      <td>[17.153190658807453]</td>\n",
       "      <td>[12.465875179530308]</td>\n",
       "    </tr>\n",
       "    <tr>\n",
       "      <th>23</th>\n",
       "      <td>4</td>\n",
       "      <td>5</td>\n",
       "      <td>[34.876529966042284]</td>\n",
       "      <td>[24.56483907278554]</td>\n",
       "      <td>[16.966789365775487]</td>\n",
       "      <td>[11.477274838390457]</td>\n",
       "      <td>[7.525967688446286]</td>\n",
       "    </tr>\n",
       "    <tr>\n",
       "      <th>24</th>\n",
       "      <td>5</td>\n",
       "      <td>0</td>\n",
       "      <td>[87.21859651708925]</td>\n",
       "      <td>[87.21859651708925]</td>\n",
       "      <td>[87.21859651708925]</td>\n",
       "      <td>[87.21859651708925]</td>\n",
       "      <td>[87.21859651708925]</td>\n",
       "    </tr>\n",
       "    <tr>\n",
       "      <th>25</th>\n",
       "      <td>5</td>\n",
       "      <td>1</td>\n",
       "      <td>[76.2945402248904]</td>\n",
       "      <td>[71.08550907150591]</td>\n",
       "      <td>[65.58096635851854]</td>\n",
       "      <td>[60.06217011936668]</td>\n",
       "      <td>[54.73195755153777]</td>\n",
       "    </tr>\n",
       "    <tr>\n",
       "      <th>26</th>\n",
       "      <td>5</td>\n",
       "      <td>2</td>\n",
       "      <td>[68.70939966866169]</td>\n",
       "      <td>[60.900620881982086]</td>\n",
       "      <td>[53.40201606167501]</td>\n",
       "      <td>[46.57352414376827]</td>\n",
       "      <td>[40.55623120865501]</td>\n",
       "    </tr>\n",
       "    <tr>\n",
       "      <th>27</th>\n",
       "      <td>5</td>\n",
       "      <td>3</td>\n",
       "      <td>[62.43909249897343]</td>\n",
       "      <td>[53.22733430850771]</td>\n",
       "      <td>[45.010394502276824]</td>\n",
       "      <td>[38.01452764300052]</td>\n",
       "      <td>[32.20182500168357]</td>\n",
       "    </tr>\n",
       "    <tr>\n",
       "      <th>28</th>\n",
       "      <td>5</td>\n",
       "      <td>4</td>\n",
       "      <td>[56.58865916193124]</td>\n",
       "      <td>[46.74159511358229]</td>\n",
       "      <td>[38.47375127349356]</td>\n",
       "      <td>[31.780883044703685]</td>\n",
       "      <td>[26.443240974127352]</td>\n",
       "    </tr>\n",
       "    <tr>\n",
       "      <th>29</th>\n",
       "      <td>5</td>\n",
       "      <td>5</td>\n",
       "      <td>[51.44681933861512]</td>\n",
       "      <td>[41.41547555987778]</td>\n",
       "      <td>[33.38860950534149]</td>\n",
       "      <td>[27.132976943180495]</td>\n",
       "      <td>[22.289186792432574]</td>\n",
       "    </tr>\n",
       "    <tr>\n",
       "      <th>30</th>\n",
       "      <td>6</td>\n",
       "      <td>0</td>\n",
       "      <td>[87.21859651708925]</td>\n",
       "      <td>[87.21859651708925]</td>\n",
       "      <td>[87.21859651708925]</td>\n",
       "      <td>[87.21859651708925]</td>\n",
       "      <td>[87.21859651708925]</td>\n",
       "    </tr>\n",
       "    <tr>\n",
       "      <th>31</th>\n",
       "      <td>6</td>\n",
       "      <td>1</td>\n",
       "      <td>[82.22403673732735]</td>\n",
       "      <td>[78.04209048458631]</td>\n",
       "      <td>[73.32002797490756]</td>\n",
       "      <td>[68.36007319893456]</td>\n",
       "      <td>[63.396280261039166]</td>\n",
       "    </tr>\n",
       "    <tr>\n",
       "      <th>32</th>\n",
       "      <td>6</td>\n",
       "      <td>2</td>\n",
       "      <td>[79.02908106610438]</td>\n",
       "      <td>[72.491153398242]</td>\n",
       "      <td>[65.70920159840861]</td>\n",
       "      <td>[59.17751249134303]</td>\n",
       "      <td>[53.16138430691021]</td>\n",
       "    </tr>\n",
       "    <tr>\n",
       "      <th>33</th>\n",
       "      <td>6</td>\n",
       "      <td>3</td>\n",
       "      <td>[76.35264964902058]</td>\n",
       "      <td>[68.28387493884703]</td>\n",
       "      <td>[60.4473243876771]</td>\n",
       "      <td>[53.338492274636394]</td>\n",
       "      <td>[47.12111611477673]</td>\n",
       "    </tr>\n",
       "    <tr>\n",
       "      <th>34</th>\n",
       "      <td>6</td>\n",
       "      <td>4</td>\n",
       "      <td>[73.47018254322133]</td>\n",
       "      <td>[64.3971367827015]</td>\n",
       "      <td>[56.064855243330484]</td>\n",
       "      <td>[48.84120919216817]</td>\n",
       "      <td>[42.74520848184678]</td>\n",
       "    </tr>\n",
       "    <tr>\n",
       "      <th>35</th>\n",
       "      <td>6</td>\n",
       "      <td>5</td>\n",
       "      <td>[70.86922594858493]</td>\n",
       "      <td>[61.166589332979896]</td>\n",
       "      <td>[52.63716317913196]</td>\n",
       "      <td>[45.48358425379271]</td>\n",
       "      <td>[39.59371498876657]</td>\n",
       "    </tr>\n",
       "  </tbody>\n",
       "</table>\n",
       "</div>"
      ],
      "text/plain": [
       "   Position Number of outliers Regression coefficient for range (2,5)  \\\n",
       "0         1                  0                    [87.21859651708925]   \n",
       "1         1                  1                    [82.51137487759621]   \n",
       "2         1                  2                    [78.36219099410407]   \n",
       "3         1                  3                    [75.32580819348418]   \n",
       "4         1                  4                    [72.89503315543182]   \n",
       "5         1                  5                     [71.0318708304812]   \n",
       "6         2                  0                    [87.21859651708925]   \n",
       "7         2                  1                    [77.77709794905354]   \n",
       "8         2                  2                    [69.77360867626528]   \n",
       "9         2                  3                    [63.62006353725387]   \n",
       "10        2                  4                   [58.621941064375896]   \n",
       "11        2                  5                     [54.6851299095426]   \n",
       "12        3                  0                    [87.21859651708925]   \n",
       "13        3                  1                    [72.20487239078436]   \n",
       "14        3                  2                   [59.653543804048766]   \n",
       "15        3                  3                      [49.878563632144]   \n",
       "16        3                  4                   [41.971771840891336]   \n",
       "17        3                  5                      [35.531535899537]   \n",
       "18        4                  0                    [87.21859651708925]   \n",
       "19        4                  1                    [71.25671857837682]   \n",
       "20        4                  2                    [59.95019455131714]   \n",
       "21        4                  3                    [50.58706421456347]   \n",
       "22        4                  4                    [42.11361816863287]   \n",
       "23        4                  5                   [34.876529966042284]   \n",
       "24        5                  0                    [87.21859651708925]   \n",
       "25        5                  1                     [76.2945402248904]   \n",
       "26        5                  2                    [68.70939966866169]   \n",
       "27        5                  3                    [62.43909249897343]   \n",
       "28        5                  4                    [56.58865916193124]   \n",
       "29        5                  5                    [51.44681933861512]   \n",
       "30        6                  0                    [87.21859651708925]   \n",
       "31        6                  1                    [82.22403673732735]   \n",
       "32        6                  2                    [79.02908106610438]   \n",
       "33        6                  3                    [76.35264964902058]   \n",
       "34        6                  4                    [73.47018254322133]   \n",
       "35        6                  5                    [70.86922594858493]   \n",
       "\n",
       "   Regression coefficient for range (5.3,6.3)  \\\n",
       "0                         [87.21859651708925]   \n",
       "1                         [78.39817557830091]   \n",
       "2                         [71.71388265510436]   \n",
       "3                          [67.1141181527603]   \n",
       "4                         [63.64266713432849]   \n",
       "5                        [61.047974570673496]   \n",
       "6                         [87.21859651708925]   \n",
       "7                         [72.72756274149867]   \n",
       "8                        [61.981657717475215]   \n",
       "9                        [54.353816055820644]   \n",
       "10                        [48.54832313641014]   \n",
       "11                        [44.16893266006771]   \n",
       "12                        [87.21859651708925]   \n",
       "13                        [66.05327345567832]   \n",
       "14                        [50.51427759564545]   \n",
       "15                        [39.37434700736918]   \n",
       "16                        [30.94069573569736]   \n",
       "17                       [24.389993744385762]   \n",
       "18                        [87.21859651708925]   \n",
       "19                        [65.17505506330436]   \n",
       "20                       [51.062806982306135]   \n",
       "21                        [40.40162048740336]   \n",
       "22                        [31.60319768720293]   \n",
       "23                        [24.56483907278554]   \n",
       "24                        [87.21859651708925]   \n",
       "25                        [71.08550907150591]   \n",
       "26                       [60.900620881982086]   \n",
       "27                        [53.22733430850771]   \n",
       "28                        [46.74159511358229]   \n",
       "29                        [41.41547555987778]   \n",
       "30                        [87.21859651708925]   \n",
       "31                        [78.04209048458631]   \n",
       "32                          [72.491153398242]   \n",
       "33                        [68.28387493884703]   \n",
       "34                         [64.3971367827015]   \n",
       "35                       [61.166589332979896]   \n",
       "\n",
       "   Regression coefficient for range (6.5,7.5)  \\\n",
       "0                         [87.21859651708925]   \n",
       "1                         [73.67938450879845]   \n",
       "2                         [64.82209809282261]   \n",
       "3                         [59.16389615717183]   \n",
       "4                         [55.13435865897117]   \n",
       "5                         [52.22124717329471]   \n",
       "6                         [87.21859651708925]   \n",
       "7                          [67.2828201144643]   \n",
       "8                        [54.429909593639834]   \n",
       "9                        [46.024457461992206]   \n",
       "10                       [40.002452937582774]   \n",
       "11                        [35.64134803130682]   \n",
       "12                        [87.21859651708925]   \n",
       "13                        [59.75408866482452]   \n",
       "14                        [42.18507825223592]   \n",
       "15                       [30.599907011364934]   \n",
       "16                        [22.35137511893415]   \n",
       "17                       [16.211910567605184]   \n",
       "18                        [87.21859651708925]   \n",
       "19                        [59.00570114789389]   \n",
       "20                       [42.955971395170984]   \n",
       "21                       [31.860614888191364]   \n",
       "22                        [23.39081592552046]   \n",
       "23                       [16.966789365775487]   \n",
       "24                        [87.21859651708925]   \n",
       "25                        [65.58096635851854]   \n",
       "26                        [53.40201606167501]   \n",
       "27                       [45.010394502276824]   \n",
       "28                        [38.47375127349356]   \n",
       "29                        [33.38860950534149]   \n",
       "30                        [87.21859651708925]   \n",
       "31                        [73.32002797490756]   \n",
       "32                        [65.70920159840861]   \n",
       "33                         [60.4473243876771]   \n",
       "34                       [56.064855243330484]   \n",
       "35                        [52.63716317913196]   \n",
       "\n",
       "   Regression coefficient for range (7.8,8.8)  \\\n",
       "0                         [87.21859651708925]   \n",
       "1                         [68.67225733900938]   \n",
       "2                         [58.19434188628597]   \n",
       "3                          [51.9782895909749]   \n",
       "4                        [47.773965325571886]   \n",
       "5                        [44.826863337350524]   \n",
       "6                         [87.21859651708925]   \n",
       "7                         [61.74633368726051]   \n",
       "8                         [47.51247413922344]   \n",
       "9                         [38.90101077092455]   \n",
       "10                        [33.04878260600584]   \n",
       "11                        [28.95708270778633]   \n",
       "12                        [87.21859651708925]   \n",
       "13                        [53.59454844752892]   \n",
       "14                       [34.926448692701904]   \n",
       "15                       [23.549424681534237]   \n",
       "16                        [15.87238729440017]   \n",
       "17                       [10.359120177861419]   \n",
       "18                        [87.21859651708925]   \n",
       "19                        [53.01210175905358]   \n",
       "20                        [35.87559644360313]   \n",
       "21                       [24.960950957268047]   \n",
       "22                       [17.153190658807453]   \n",
       "23                       [11.477274838390457]   \n",
       "24                        [87.21859651708925]   \n",
       "25                        [60.06217011936668]   \n",
       "26                        [46.57352414376827]   \n",
       "27                        [38.01452764300052]   \n",
       "28                       [31.780883044703685]   \n",
       "29                       [27.132976943180495]   \n",
       "30                        [87.21859651708925]   \n",
       "31                        [68.36007319893456]   \n",
       "32                        [59.17751249134303]   \n",
       "33                       [53.338492274636394]   \n",
       "34                        [48.84120919216817]   \n",
       "35                        [45.48358425379271]   \n",
       "\n",
       "   Regression coefficient for range (9.1,10.1)  \n",
       "0                          [87.21859651708925]  \n",
       "1                         [63.628033928776105]  \n",
       "2                          [52.10274206024243]  \n",
       "3                          [45.71899588966846]  \n",
       "4                         [41.586878894845356]  \n",
       "5                         [38.765255061018976]  \n",
       "6                          [87.21859651708925]  \n",
       "7                            [56.344727924885]  \n",
       "8                           [41.3940487147882]  \n",
       "9                         [32.967176792603546]  \n",
       "10                         [27.49059304235823]  \n",
       "11                        [23.771850494338352]  \n",
       "12                         [87.21859651708925]  \n",
       "13                        [47.772305044656434]  \n",
       "14                        [28.776509659253257]  \n",
       "15                        [17.997647830501084]  \n",
       "16                        [11.047958164926287]  \n",
       "17                          [6.20044283396092]  \n",
       "18                         [87.21859651708925]  \n",
       "19                         [47.37057157099932]  \n",
       "20                        [29.857341676283706]  \n",
       "21                        [19.492947447795284]  \n",
       "22                        [12.465875179530308]  \n",
       "23                         [7.525967688446286]  \n",
       "24                         [87.21859651708925]  \n",
       "25                         [54.73195755153777]  \n",
       "26                         [40.55623120865501]  \n",
       "27                         [32.20182500168357]  \n",
       "28                        [26.443240974127352]  \n",
       "29                        [22.289186792432574]  \n",
       "30                         [87.21859651708925]  \n",
       "31                        [63.396280261039166]  \n",
       "32                         [53.16138430691021]  \n",
       "33                         [47.12111611477673]  \n",
       "34                         [42.74520848184678]  \n",
       "35                         [39.59371498876657]  "
      ]
     },
     "execution_count": 14,
     "metadata": {},
     "output_type": "execute_result"
    },
    {
     "data": {
      "text/plain": [
       "<Figure size 864x288 with 0 Axes>"
      ]
     },
     "metadata": {},
     "output_type": "display_data"
    },
    {
     "data": {
      "text/plain": [
       "<Figure size 864x288 with 0 Axes>"
      ]
     },
     "metadata": {},
     "output_type": "display_data"
    },
    {
     "data": {
      "text/plain": [
       "<Figure size 864x288 with 0 Axes>"
      ]
     },
     "metadata": {},
     "output_type": "display_data"
    },
    {
     "data": {
      "text/plain": [
       "<Figure size 864x288 with 0 Axes>"
      ]
     },
     "metadata": {},
     "output_type": "display_data"
    },
    {
     "data": {
      "text/plain": [
       "<Figure size 864x288 with 0 Axes>"
      ]
     },
     "metadata": {},
     "output_type": "display_data"
    },
    {
     "data": {
      "text/plain": [
       "<Figure size 864x288 with 0 Axes>"
      ]
     },
     "metadata": {},
     "output_type": "display_data"
    },
    {
     "data": {
      "text/plain": [
       "<Figure size 864x288 with 0 Axes>"
      ]
     },
     "metadata": {},
     "output_type": "display_data"
    },
    {
     "data": {
      "text/plain": [
       "<Figure size 864x288 with 0 Axes>"
      ]
     },
     "metadata": {},
     "output_type": "display_data"
    },
    {
     "data": {
      "text/plain": [
       "<Figure size 864x288 with 0 Axes>"
      ]
     },
     "metadata": {},
     "output_type": "display_data"
    },
    {
     "data": {
      "text/plain": [
       "<Figure size 864x288 with 0 Axes>"
      ]
     },
     "metadata": {},
     "output_type": "display_data"
    },
    {
     "data": {
      "text/plain": [
       "<Figure size 864x288 with 0 Axes>"
      ]
     },
     "metadata": {},
     "output_type": "display_data"
    },
    {
     "data": {
      "text/plain": [
       "<Figure size 864x288 with 0 Axes>"
      ]
     },
     "metadata": {},
     "output_type": "display_data"
    },
    {
     "data": {
      "text/plain": [
       "<Figure size 864x288 with 0 Axes>"
      ]
     },
     "metadata": {},
     "output_type": "display_data"
    },
    {
     "data": {
      "text/plain": [
       "<Figure size 864x288 with 0 Axes>"
      ]
     },
     "metadata": {},
     "output_type": "display_data"
    },
    {
     "data": {
      "text/plain": [
       "<Figure size 864x288 with 0 Axes>"
      ]
     },
     "metadata": {},
     "output_type": "display_data"
    },
    {
     "data": {
      "text/plain": [
       "<Figure size 864x288 with 0 Axes>"
      ]
     },
     "metadata": {},
     "output_type": "display_data"
    },
    {
     "data": {
      "text/plain": [
       "<Figure size 864x288 with 0 Axes>"
      ]
     },
     "metadata": {},
     "output_type": "display_data"
    },
    {
     "data": {
      "text/plain": [
       "<Figure size 864x288 with 0 Axes>"
      ]
     },
     "metadata": {},
     "output_type": "display_data"
    },
    {
     "data": {
      "text/plain": [
       "<Figure size 864x288 with 0 Axes>"
      ]
     },
     "metadata": {},
     "output_type": "display_data"
    },
    {
     "data": {
      "text/plain": [
       "<Figure size 864x288 with 0 Axes>"
      ]
     },
     "metadata": {},
     "output_type": "display_data"
    },
    {
     "data": {
      "text/plain": [
       "<Figure size 864x288 with 0 Axes>"
      ]
     },
     "metadata": {},
     "output_type": "display_data"
    },
    {
     "data": {
      "text/plain": [
       "<Figure size 864x288 with 0 Axes>"
      ]
     },
     "metadata": {},
     "output_type": "display_data"
    },
    {
     "data": {
      "text/plain": [
       "<Figure size 864x288 with 0 Axes>"
      ]
     },
     "metadata": {},
     "output_type": "display_data"
    },
    {
     "data": {
      "text/plain": [
       "<Figure size 864x288 with 0 Axes>"
      ]
     },
     "metadata": {},
     "output_type": "display_data"
    }
   ],
   "source": [
    "table2 = effectofoutlier(x,y,5,(2.5*x.max() - 1,2.5*x.max()))\n",
    "table3 = effectofoutlier(x,y,5,(3*x.max() - 1,3*x.max()))\n",
    "table4 = effectofoutlier(x,y,5,(3.5*x.max() - 1,3.5*x.max()))\n",
    "table5 = effectofoutlier(x,y,5,(4*x.max() - 1,4*x.max()))\n",
    "table = table1.drop(['Regression coefficient','Regression intercept'], axis = 1)\n",
    "table[\"Regression coefficient for range (2,5)\"] = table1['Regression coefficient']\n",
    "table[\"Regression coefficient for range (5.3,6.3)\"] = table2['Regression coefficient']\n",
    "table[\"Regression coefficient for range (6.5,7.5)\"] = table3['Regression coefficient']\n",
    "table[\"Regression coefficient for range (7.8,8.8)\"] = table4['Regression coefficient']\n",
    "table[\"Regression coefficient for range (9.1,10.1)\"] = table5['Regression coefficient']\n",
    "table"
   ]
  },
  {
   "cell_type": "markdown",
   "id": "5c8a9b2b",
   "metadata": {
    "id": "5c8a9b2b"
   },
   "source": [
    "## Detecting and removing outliers"
   ]
  },
  {
   "cell_type": "markdown",
   "id": "d46f1489",
   "metadata": {
    "id": "d46f1489"
   },
   "source": [
    "## Using scatter plot"
   ]
  },
  {
   "cell_type": "code",
   "execution_count": 15,
   "id": "84b9935b",
   "metadata": {
    "colab": {
     "base_uri": "https://localhost:8080/",
     "height": 283
    },
    "id": "84b9935b",
    "outputId": "b2f1e78f-377f-4bcd-9a4c-efa6dd784205"
   },
   "outputs": [
    {
     "data": {
      "text/plain": [
       "<matplotlib.collections.PathCollection at 0x242ad265e20>"
      ]
     },
     "execution_count": 15,
     "metadata": {},
     "output_type": "execute_result"
    },
    {
     "data": {
      "image/png": "[encoded data removed]",
      "text/plain": [
       "<Figure size 432x288 with 1 Axes>"
      ]
     },
     "metadata": {
      "needs_background": "light"
     },
     "output_type": "display_data"
    }
   ],
   "source": [
    "outlierx = np.random.uniform(2*x.max() - 1,2*x.max(), size = (5))\n",
    "outliery = np.random.uniform(y.max(),y.max()+5, size = (5))\n",
    "xwithoutlier = np.append(x,outlierx)\n",
    "ywithoutlier = np.append(y,outliery)\n",
    "plt.scatter(x,y)\n",
    "plt.scatter(outlierx,outliery)"
   ]
  },
  {
   "cell_type": "markdown",
   "id": "601876ad",
   "metadata": {
    "id": "601876ad"
   },
   "source": [
    "## Using boxplot"
   ]
  },
  {
   "cell_type": "code",
   "execution_count": 16,
   "id": "9dcc8b7f",
   "metadata": {
    "colab": {
     "base_uri": "https://localhost:8080/",
     "height": 283
    },
    "id": "9dcc8b7f",
    "outputId": "962d2514-a52b-43eb-d82b-37fce9468897"
   },
   "outputs": [
    {
     "data": {
      "text/plain": [
       "<AxesSubplot:>"
      ]
     },
     "execution_count": 16,
     "metadata": {},
     "output_type": "execute_result"
    },
    {
     "data": {
      "image/png": "[encoded data removed]",
      "text/plain": [
       "<Figure size 432x288 with 1 Axes>"
      ]
     },
     "metadata": {
      "needs_background": "light"
     },
     "output_type": "display_data"
    }
   ],
   "source": [
    "sns.boxplot(x=xwithoutlier)"
   ]
  },
  {
   "cell_type": "markdown",
   "id": "7edb860a",
   "metadata": {
    "id": "7edb860a"
   },
   "source": [
    "## Using zscore value"
   ]
  },
  {
   "cell_type": "code",
   "execution_count": 17,
   "id": "1cc9229d",
   "metadata": {
    "colab": {
     "base_uri": "https://localhost:8080/"
    },
    "id": "1cc9229d",
    "outputId": "bbffa18d-cc46-47a8-8149-5f40d6dddeda"
   },
   "outputs": [
    {
     "name": "stdout",
     "output_type": "stream",
     "text": [
      "[1.45111434e-02 2.24456045e-01 2.94764129e-01 2.53037906e-01\n",
      " 1.73676376e+00 2.54783779e-01 4.26415890e-01 1.62442401e+00\n",
      " 2.76980134e-01 4.11019822e-02 7.60408213e-01 2.61625008e-01\n",
      " 5.75286513e-01 5.81703937e-01 2.80014746e-01 1.54301182e+00\n",
      " 8.98924326e-01 5.08246985e-01 2.01518135e-01 1.15517246e+00\n",
      " 7.29982845e-01 6.12954121e-02 3.32691009e-01 1.34713439e+00\n",
      " 1.40032148e+00 9.63909381e-01 6.03457645e-01 2.87682027e-01\n",
      " 2.56950608e-01 8.32108468e-01 1.27426063e+00 4.62204979e-01\n",
      " 4.51752514e-01 1.82757428e+00 2.19660374e-03 1.97228105e+00\n",
      " 1.42343204e-01 5.24235820e-01 8.88653008e-01 3.86269397e-01\n",
      " 1.74004182e+00 7.81846824e-01 1.79985807e-01 1.13583654e+00\n",
      " 1.19872877e+00 1.98563049e-01 1.24098184e+00 2.12050309e-01\n",
      " 1.14887341e+00 8.44767149e-02 3.40393187e-01 5.21051834e-01\n",
      " 7.81332352e-01 7.53194628e-01 6.55772583e-01 6.04105111e-01\n",
      " 1.82816289e-01 4.81110451e-01 9.47746362e-01 3.10590688e-01\n",
      " 6.90188334e-02 6.30109924e-01 3.89781868e-01 8.66103774e-01\n",
      " 9.82894658e-01 4.63626958e-01 7.51665992e-01 8.30119136e-02\n",
      " 1.48798828e+00 5.28779255e-01 1.65190305e-01 1.61414418e+00\n",
      " 1.61619070e-01 4.93355232e-01 1.21783947e-01 2.21842757e+00\n",
      " 5.84358970e-01 8.77727672e-02 2.03755099e+00 4.09450271e-01\n",
      " 2.00571256e+00 1.18535660e-01 4.72161030e-01 4.60179113e-01\n",
      " 1.75017529e-01 9.07724341e-02 5.48936822e-01 1.01493939e+00\n",
      " 1.70970848e-01 2.88784282e-02 3.74431709e-01 8.59335453e-02\n",
      " 1.23964673e-02 1.56206553e-02 1.69956514e-01 5.39969508e-01\n",
      " 7.88682283e-01 3.54545799e-01 5.89610096e-01 8.73537176e-02\n",
      " 2.52429473e-01 4.53031708e-01 7.34365277e-01 5.72221305e-01\n",
      " 4.10098464e-01 2.72022670e-02 1.45587584e-01 2.21274938e-02\n",
      " 5.16225332e-01 8.18348970e-01 6.34883434e-01 1.22207847e-01\n",
      " 1.34671587e+00 3.67262286e-01 1.35231141e-01 6.78780217e-01\n",
      " 3.90382967e-01 5.00753768e-01 2.76195759e-01 3.49781648e-01\n",
      " 1.42092260e+00 9.72518988e-01 1.30099832e+00 9.49206073e-01\n",
      " 9.32049546e-01 1.24389449e+00 7.41456513e-02 1.49324188e-01\n",
      " 8.61118430e-01 7.95880994e-01 2.95266483e-01 4.43528209e-01\n",
      " 2.68362964e-01 1.62040118e-02 1.15956022e+00 3.44303228e-01\n",
      " 7.36690516e-01 1.31171131e+00 1.53160449e-01 5.55261255e-01\n",
      " 3.54759846e-01 2.33588800e+00 4.11092110e-01 7.29425692e-01\n",
      " 4.08905404e-01 1.66034388e+00 8.48739082e-01 2.40113936e-01\n",
      " 3.23206599e-01 8.04919966e-01 7.25032824e-01 1.27222567e+00\n",
      " 1.19712221e+00 1.16020164e+00 1.46288214e+00 8.55118513e-01\n",
      " 3.59399945e-01 4.70889171e-01 1.17905850e+00 3.26562112e-01\n",
      " 3.05535318e-01 5.70404038e-01 7.92845470e-01 4.24733325e-01\n",
      " 1.86139313e+00 1.07490705e-01 2.59642328e-02 2.98646721e-01\n",
      " 5.69580269e-02 4.74465848e-01 1.17490957e+00 8.54903419e-02\n",
      " 9.13643662e-01 6.04013619e-01 5.39236116e-01 8.08696292e-01\n",
      " 9.35136417e-01 7.39800980e-01 1.51941681e-01 6.46011496e-01\n",
      " 4.63515918e-01 1.73552638e+00 4.93369270e-02 1.06891817e+00\n",
      " 2.78613107e-01 1.51878116e-01 1.03073998e+00 3.53508516e-01\n",
      " 7.97812194e-01 8.73415045e-01 4.98192069e-01 2.17742964e-02\n",
      " 4.24944695e-01 7.22520956e-01 7.99835774e-01 3.42298586e-01\n",
      " 1.24712901e+00 1.09802151e+00 8.06810519e-01 2.46011828e-01\n",
      " 3.94816603e+00 3.51060062e+00 4.21670370e+00 3.84412276e+00\n",
      " 3.74967230e+00]\n"
     ]
    }
   ],
   "source": [
    "z = np.abs(stats.zscore(xwithoutlier))\n",
    "print(z)"
   ]
  },
  {
   "cell_type": "code",
   "execution_count": 18,
   "id": "e44bdf1d",
   "metadata": {
    "colab": {
     "base_uri": "https://localhost:8080/"
    },
    "id": "e44bdf1d",
    "outputId": "87a379f8-1225-4993-ba61-191bd5bcf6ab"
   },
   "outputs": [
    {
     "name": "stdout",
     "output_type": "stream",
     "text": [
      "(array([200, 201, 202, 203, 204], dtype=int64),)\n"
     ]
    }
   ],
   "source": [
    "print(np.where(z > 3))"
   ]
  },
  {
   "cell_type": "markdown",
   "id": "bc12efbb",
   "metadata": {
    "id": "bc12efbb"
   },
   "source": [
    "## Generating data with multiple features."
   ]
  },
  {
   "cell_type": "code",
   "execution_count": 19,
   "id": "bd7b8f7d",
   "metadata": {
    "colab": {
     "base_uri": "https://localhost:8080/",
     "height": 423
    },
    "id": "bd7b8f7d",
    "outputId": "ab29597d-9690-4b40-9060-5642f30a0a3a"
   },
   "outputs": [
    {
     "data": {
      "text/html": [
       "<div>\n",
       "<style scoped>\n",
       "    .dataframe tbody tr th:only-of-type {\n",
       "        vertical-align: middle;\n",
       "    }\n",
       "\n",
       "    .dataframe tbody tr th {\n",
       "        vertical-align: top;\n",
       "    }\n",
       "\n",
       "    .dataframe thead th {\n",
       "        text-align: right;\n",
       "    }\n",
       "</style>\n",
       "<table border=\"1\" class=\"dataframe\">\n",
       "  <thead>\n",
       "    <tr style=\"text-align: right;\">\n",
       "      <th></th>\n",
       "      <th>Feature1</th>\n",
       "      <th>Feature2</th>\n",
       "      <th>Feature3</th>\n",
       "      <th>Feature4</th>\n",
       "    </tr>\n",
       "  </thead>\n",
       "  <tbody>\n",
       "    <tr>\n",
       "      <th>0</th>\n",
       "      <td>1.239555</td>\n",
       "      <td>7.242226</td>\n",
       "      <td>-5.580469</td>\n",
       "      <td>12.591371</td>\n",
       "    </tr>\n",
       "    <tr>\n",
       "      <th>1</th>\n",
       "      <td>4.130044</td>\n",
       "      <td>2.324369</td>\n",
       "      <td>-6.698615</td>\n",
       "      <td>7.741838</td>\n",
       "    </tr>\n",
       "    <tr>\n",
       "      <th>2</th>\n",
       "      <td>4.229063</td>\n",
       "      <td>1.159379</td>\n",
       "      <td>-5.479135</td>\n",
       "      <td>13.894683</td>\n",
       "    </tr>\n",
       "    <tr>\n",
       "      <th>3</th>\n",
       "      <td>4.559497</td>\n",
       "      <td>5.479608</td>\n",
       "      <td>-5.921587</td>\n",
       "      <td>17.503290</td>\n",
       "    </tr>\n",
       "    <tr>\n",
       "      <th>4</th>\n",
       "      <td>4.461068</td>\n",
       "      <td>8.136870</td>\n",
       "      <td>-6.437736</td>\n",
       "      <td>1.423128</td>\n",
       "    </tr>\n",
       "    <tr>\n",
       "      <th>...</th>\n",
       "      <td>...</td>\n",
       "      <td>...</td>\n",
       "      <td>...</td>\n",
       "      <td>...</td>\n",
       "    </tr>\n",
       "    <tr>\n",
       "      <th>995</th>\n",
       "      <td>6.739709</td>\n",
       "      <td>8.430566</td>\n",
       "      <td>-5.173167</td>\n",
       "      <td>7.904259</td>\n",
       "    </tr>\n",
       "    <tr>\n",
       "      <th>996</th>\n",
       "      <td>6.587049</td>\n",
       "      <td>2.566936</td>\n",
       "      <td>-6.499349</td>\n",
       "      <td>17.820095</td>\n",
       "    </tr>\n",
       "    <tr>\n",
       "      <th>997</th>\n",
       "      <td>4.625521</td>\n",
       "      <td>8.025549</td>\n",
       "      <td>-5.290160</td>\n",
       "      <td>2.810972</td>\n",
       "    </tr>\n",
       "    <tr>\n",
       "      <th>998</th>\n",
       "      <td>7.760513</td>\n",
       "      <td>7.366398</td>\n",
       "      <td>-6.576235</td>\n",
       "      <td>8.831902</td>\n",
       "    </tr>\n",
       "    <tr>\n",
       "      <th>999</th>\n",
       "      <td>6.274988</td>\n",
       "      <td>1.244029</td>\n",
       "      <td>-6.923268</td>\n",
       "      <td>9.015117</td>\n",
       "    </tr>\n",
       "  </tbody>\n",
       "</table>\n",
       "<p>1000 rows × 4 columns</p>\n",
       "</div>"
      ],
      "text/plain": [
       "     Feature1  Feature2  Feature3   Feature4\n",
       "0    1.239555  7.242226 -5.580469  12.591371\n",
       "1    4.130044  2.324369 -6.698615   7.741838\n",
       "2    4.229063  1.159379 -5.479135  13.894683\n",
       "3    4.559497  5.479608 -5.921587  17.503290\n",
       "4    4.461068  8.136870 -6.437736   1.423128\n",
       "..        ...       ...       ...        ...\n",
       "995  6.739709  8.430566 -5.173167   7.904259\n",
       "996  6.587049  2.566936 -6.499349  17.820095\n",
       "997  4.625521  8.025549 -5.290160   2.810972\n",
       "998  7.760513  7.366398 -6.576235   8.831902\n",
       "999  6.274988  1.244029 -6.923268   9.015117\n",
       "\n",
       "[1000 rows x 4 columns]"
      ]
     },
     "execution_count": 19,
     "metadata": {},
     "output_type": "execute_result"
    }
   ],
   "source": [
    "np.random.seed(7)\n",
    "xm = pd.DataFrame()\n",
    "xm['Feature1'] = np.random.normal(loc = np.random.randint(1,10), scale = np.random.randint(1,5), size = (1000) )\n",
    "xm['Feature2'] = np.random.uniform(low = np.random.randint(1,5), high = np.random.randint(5,10), size = (1000) )\n",
    "xm['Feature3'] = np.random.uniform(low = np.random.randint(-5,-1), high = np.random.randint(-10,-5), size = (1000))\n",
    "xm['Feature4'] = np.random.gamma(shape = np.random.randint(1,10), scale = np.random.randint(1,5), size = (1000) )\n",
    "ym = (xm*np.random.uniform(low = 1, high = 3, size = (4))).sum(axis = 1) + np.random.uniform(1,5,size = (1000))\n",
    "xm "
   ]
  },
  {
   "cell_type": "markdown",
   "id": "e3c242f6",
   "metadata": {
    "id": "e3c242f6"
   },
   "source": [
    "## Lets add outliers in different columns"
   ]
  },
  {
   "cell_type": "code",
   "execution_count": 20,
   "id": "7a6f57ce",
   "metadata": {
    "id": "7a6f57ce"
   },
   "outputs": [],
   "source": [
    "#Here outliers are added at distance of 25 in rows.\n",
    "xmwithoutlier = copy.deepcopy(xm)\n",
    "i = 0\n",
    "for column in xmwithoutlier.columns:\n",
    "    if i % 2 == 0:\n",
    "        \n",
    "        xmwithoutlier[column][np.arange(0,1000,25)] = np.random.uniform(2*xmwithoutlier[column].min() - 1,2*xmwithoutlier[column].min(),size = (40))  \n",
    "    else:\n",
    "        xmwithoutlier[column][np.arange(0,1000,25)] = np.random.uniform(2*xmwithoutlier[column].max() - 1,2*xmwithoutlier[column].max(),size = (40))\n",
    "    \n",
    "    i += 1"
   ]
  },
  {
   "cell_type": "code",
   "execution_count": 21,
   "id": "a2edf564",
   "metadata": {
    "colab": {
     "base_uri": "https://localhost:8080/",
     "height": 1000
    },
    "id": "a2edf564",
    "outputId": "912af739-305f-4e29-b65f-69453e01859f"
   },
   "outputs": [
    {
     "data": {
      "image/png": "[encoded data removed]",
      "text/plain": [
       "<Figure size 432x288 with 1 Axes>"
      ]
     },
     "metadata": {
      "needs_background": "light"
     },
     "output_type": "display_data"
    },
    {
     "data": {
      "image/png": "[encoded data removed]",
      "text/plain": [
       "<Figure size 432x288 with 1 Axes>"
      ]
     },
     "metadata": {
      "needs_background": "light"
     },
     "output_type": "display_data"
    },
    {
     "data": {
      "image/png": "[encoded data removed]",
      "text/plain": [
       "<Figure size 432x288 with 1 Axes>"
      ]
     },
     "metadata": {
      "needs_background": "light"
     },
     "output_type": "display_data"
    },
    {
     "data": {
      "image/png": "[encoded data removed]",
      "text/plain": [
       "<Figure size 432x288 with 1 Axes>"
      ]
     },
     "metadata": {
      "needs_background": "light"
     },
     "output_type": "display_data"
    }
   ],
   "source": [
    "for column in xmwithoutlier.columns:\n",
    "    sns.boxplot(x=xmwithoutlier[column])\n",
    "    plt.show()"
   ]
  },
  {
   "cell_type": "code",
   "execution_count": 22,
   "id": "8b2a802a",
   "metadata": {
    "colab": {
     "base_uri": "https://localhost:8080/"
    },
    "id": "8b2a802a",
    "outputId": "4a39b202-fe79-4fa6-e3e6-e34bca634ad9"
   },
   "outputs": [
    {
     "name": "stdout",
     "output_type": "stream",
     "text": [
      "(array([  0,   0,   0,  25,  25,  25,  50,  50,  50,  75,  75,  75,  75,\n",
      "       100, 100, 100, 100, 125, 125, 125, 150, 150, 150, 150, 175, 175,\n",
      "       175, 200, 200, 200, 200, 225, 225, 225, 225, 250, 250, 250, 250,\n",
      "       275, 275, 275, 300, 300, 300, 300, 325, 325, 325, 350, 350, 350,\n",
      "       350, 375, 375, 375, 400, 400, 400, 400, 425, 425, 425, 450, 450,\n",
      "       450, 475, 475, 475, 500, 500, 500, 500, 525, 525, 525, 525, 550,\n",
      "       550, 550, 575, 575, 575, 575, 600, 600, 600, 600, 625, 625, 625,\n",
      "       625, 650, 650, 650, 675, 675, 675, 675, 700, 700, 700, 700, 725,\n",
      "       725, 725, 725, 750, 750, 750, 750, 775, 775, 775, 800, 800, 800,\n",
      "       800, 825, 825, 825, 850, 850, 850, 850, 875, 875, 875, 875, 900,\n",
      "       900, 900, 900, 925, 925, 925, 925, 950, 950, 950, 950, 975, 975,\n",
      "       975, 975], dtype=int64), array([1, 2, 3, 1, 2, 3, 1, 2, 3, 0, 1, 2, 3, 0, 1, 2, 3, 1, 2, 3, 0, 1,\n",
      "       2, 3, 1, 2, 3, 0, 1, 2, 3, 0, 1, 2, 3, 0, 1, 2, 3, 1, 2, 3, 0, 1,\n",
      "       2, 3, 1, 2, 3, 0, 1, 2, 3, 1, 2, 3, 0, 1, 2, 3, 1, 2, 3, 1, 2, 3,\n",
      "       1, 2, 3, 0, 1, 2, 3, 0, 1, 2, 3, 1, 2, 3, 0, 1, 2, 3, 0, 1, 2, 3,\n",
      "       0, 1, 2, 3, 1, 2, 3, 0, 1, 2, 3, 0, 1, 2, 3, 0, 1, 2, 3, 0, 1, 2,\n",
      "       3, 1, 2, 3, 0, 1, 2, 3, 1, 2, 3, 0, 1, 2, 3, 0, 1, 2, 3, 0, 1, 2,\n",
      "       3, 0, 1, 2, 3, 0, 1, 2, 3, 0, 1, 2, 3], dtype=int64))\n"
     ]
    }
   ],
   "source": [
    "z = np.abs(stats.zscore(xmwithoutlier))\n",
    "print(np.where(z > 3))"
   ]
  },
  {
   "cell_type": "markdown",
   "id": "0fa4d300",
   "metadata": {
    "id": "0fa4d300"
   },
   "source": [
    " First and second  array are row and column numbers for outliers"
   ]
  },
  {
   "cell_type": "code",
   "execution_count": 23,
   "id": "1e7db1ca",
   "metadata": {
    "id": "1e7db1ca"
   },
   "outputs": [],
   "source": [
    "zxwithoutoutlier = xmwithoutlier[(z < 3).all(axis=1)]"
   ]
  },
  {
   "cell_type": "code",
   "execution_count": 24,
   "id": "1bdb0d8b",
   "metadata": {
    "colab": {
     "base_uri": "https://localhost:8080/",
     "height": 1000
    },
    "id": "1bdb0d8b",
    "outputId": "d0ec44d4-7e4d-40f5-8e08-4d8586b5e220"
   },
   "outputs": [
    {
     "data": {
      "text/html": [
       "<div>\n",
       "<style scoped>\n",
       "    .dataframe tbody tr th:only-of-type {\n",
       "        vertical-align: middle;\n",
       "    }\n",
       "\n",
       "    .dataframe tbody tr th {\n",
       "        vertical-align: top;\n",
       "    }\n",
       "\n",
       "    .dataframe thead th {\n",
       "        text-align: right;\n",
       "    }\n",
       "</style>\n",
       "<table border=\"1\" class=\"dataframe\">\n",
       "  <thead>\n",
       "    <tr style=\"text-align: right;\">\n",
       "      <th></th>\n",
       "      <th>Feature1</th>\n",
       "      <th>Feature2</th>\n",
       "      <th>Feature3</th>\n",
       "      <th>Feature4</th>\n",
       "    </tr>\n",
       "  </thead>\n",
       "  <tbody>\n",
       "    <tr>\n",
       "      <th>1</th>\n",
       "      <td>4.130044</td>\n",
       "      <td>2.324369</td>\n",
       "      <td>-6.698615</td>\n",
       "      <td>7.741838</td>\n",
       "    </tr>\n",
       "    <tr>\n",
       "      <th>2</th>\n",
       "      <td>4.229063</td>\n",
       "      <td>1.159379</td>\n",
       "      <td>-5.479135</td>\n",
       "      <td>13.894683</td>\n",
       "    </tr>\n",
       "    <tr>\n",
       "      <th>3</th>\n",
       "      <td>4.559497</td>\n",
       "      <td>5.479608</td>\n",
       "      <td>-5.921587</td>\n",
       "      <td>17.503290</td>\n",
       "    </tr>\n",
       "    <tr>\n",
       "      <th>4</th>\n",
       "      <td>4.461068</td>\n",
       "      <td>8.136870</td>\n",
       "      <td>-6.437736</td>\n",
       "      <td>1.423128</td>\n",
       "    </tr>\n",
       "    <tr>\n",
       "      <th>5</th>\n",
       "      <td>4.910238</td>\n",
       "      <td>3.003071</td>\n",
       "      <td>-6.998611</td>\n",
       "      <td>4.816982</td>\n",
       "    </tr>\n",
       "    <tr>\n",
       "      <th>6</th>\n",
       "      <td>7.190249</td>\n",
       "      <td>2.493327</td>\n",
       "      <td>-5.726354</td>\n",
       "      <td>9.007512</td>\n",
       "    </tr>\n",
       "    <tr>\n",
       "      <th>7</th>\n",
       "      <td>5.164890</td>\n",
       "      <td>8.052806</td>\n",
       "      <td>-5.664990</td>\n",
       "      <td>12.204003</td>\n",
       "    </tr>\n",
       "    <tr>\n",
       "      <th>8</th>\n",
       "      <td>2.953455</td>\n",
       "      <td>3.721036</td>\n",
       "      <td>-6.066510</td>\n",
       "      <td>6.333646</td>\n",
       "    </tr>\n",
       "    <tr>\n",
       "      <th>9</th>\n",
       "      <td>1.766275</td>\n",
       "      <td>3.823894</td>\n",
       "      <td>-6.842899</td>\n",
       "      <td>4.901148</td>\n",
       "    </tr>\n",
       "    <tr>\n",
       "      <th>10</th>\n",
       "      <td>7.374155</td>\n",
       "      <td>5.871079</td>\n",
       "      <td>-6.987097</td>\n",
       "      <td>22.116211</td>\n",
       "    </tr>\n",
       "    <tr>\n",
       "      <th>11</th>\n",
       "      <td>7.401892</td>\n",
       "      <td>3.145317</td>\n",
       "      <td>-5.572253</td>\n",
       "      <td>19.178905</td>\n",
       "    </tr>\n",
       "    <tr>\n",
       "      <th>12</th>\n",
       "      <td>2.915916</td>\n",
       "      <td>8.505559</td>\n",
       "      <td>-5.939708</td>\n",
       "      <td>12.841430</td>\n",
       "    </tr>\n",
       "    <tr>\n",
       "      <th>13</th>\n",
       "      <td>7.625371</td>\n",
       "      <td>2.521411</td>\n",
       "      <td>-6.327508</td>\n",
       "      <td>1.996697</td>\n",
       "    </tr>\n",
       "    <tr>\n",
       "      <th>14</th>\n",
       "      <td>4.735951</td>\n",
       "      <td>1.173085</td>\n",
       "      <td>-5.376948</td>\n",
       "      <td>22.801199</td>\n",
       "    </tr>\n",
       "    <tr>\n",
       "      <th>15</th>\n",
       "      <td>5.477711</td>\n",
       "      <td>4.587891</td>\n",
       "      <td>-5.337959</td>\n",
       "      <td>5.724000</td>\n",
       "    </tr>\n",
       "    <tr>\n",
       "      <th>16</th>\n",
       "      <td>3.334560</td>\n",
       "      <td>5.701196</td>\n",
       "      <td>-5.665021</td>\n",
       "      <td>11.586302</td>\n",
       "    </tr>\n",
       "    <tr>\n",
       "      <th>17</th>\n",
       "      <td>6.703877</td>\n",
       "      <td>3.228762</td>\n",
       "      <td>-6.559760</td>\n",
       "      <td>14.718964</td>\n",
       "    </tr>\n",
       "    <tr>\n",
       "      <th>18</th>\n",
       "      <td>4.439429</td>\n",
       "      <td>7.071112</td>\n",
       "      <td>-5.052870</td>\n",
       "      <td>2.723607</td>\n",
       "    </tr>\n",
       "    <tr>\n",
       "      <th>19</th>\n",
       "      <td>5.604164</td>\n",
       "      <td>1.515479</td>\n",
       "      <td>-6.908870</td>\n",
       "      <td>10.137887</td>\n",
       "    </tr>\n",
       "    <tr>\n",
       "      <th>20</th>\n",
       "      <td>0.709761</td>\n",
       "      <td>3.580129</td>\n",
       "      <td>-5.878497</td>\n",
       "      <td>7.215883</td>\n",
       "    </tr>\n",
       "    <tr>\n",
       "      <th>21</th>\n",
       "      <td>3.096673</td>\n",
       "      <td>4.590649</td>\n",
       "      <td>-6.270656</td>\n",
       "      <td>5.604372</td>\n",
       "    </tr>\n",
       "    <tr>\n",
       "      <th>22</th>\n",
       "      <td>2.731464</td>\n",
       "      <td>8.589209</td>\n",
       "      <td>-5.865498</td>\n",
       "      <td>4.642641</td>\n",
       "    </tr>\n",
       "    <tr>\n",
       "      <th>23</th>\n",
       "      <td>3.945611</td>\n",
       "      <td>2.073585</td>\n",
       "      <td>-5.762368</td>\n",
       "      <td>3.044328</td>\n",
       "    </tr>\n",
       "    <tr>\n",
       "      <th>24</th>\n",
       "      <td>4.917916</td>\n",
       "      <td>2.166356</td>\n",
       "      <td>-5.311087</td>\n",
       "      <td>7.713711</td>\n",
       "    </tr>\n",
       "    <tr>\n",
       "      <th>26</th>\n",
       "      <td>6.039418</td>\n",
       "      <td>7.029212</td>\n",
       "      <td>-6.745934</td>\n",
       "      <td>2.924733</td>\n",
       "    </tr>\n",
       "    <tr>\n",
       "      <th>27</th>\n",
       "      <td>5.261908</td>\n",
       "      <td>3.366370</td>\n",
       "      <td>-5.147274</td>\n",
       "      <td>9.124814</td>\n",
       "    </tr>\n",
       "    <tr>\n",
       "      <th>28</th>\n",
       "      <td>2.398455</td>\n",
       "      <td>3.548941</td>\n",
       "      <td>-6.577776</td>\n",
       "      <td>7.175464</td>\n",
       "    </tr>\n",
       "    <tr>\n",
       "      <th>29</th>\n",
       "      <td>3.239405</td>\n",
       "      <td>5.512797</td>\n",
       "      <td>-5.135892</td>\n",
       "      <td>2.558819</td>\n",
       "    </tr>\n",
       "    <tr>\n",
       "      <th>30</th>\n",
       "      <td>6.131776</td>\n",
       "      <td>4.330014</td>\n",
       "      <td>-5.923856</td>\n",
       "      <td>4.834935</td>\n",
       "    </tr>\n",
       "    <tr>\n",
       "      <th>31</th>\n",
       "      <td>4.867784</td>\n",
       "      <td>5.929732</td>\n",
       "      <td>-5.645278</td>\n",
       "      <td>8.006550</td>\n",
       "    </tr>\n",
       "    <tr>\n",
       "      <th>32</th>\n",
       "      <td>4.397108</td>\n",
       "      <td>5.004566</td>\n",
       "      <td>-5.187976</td>\n",
       "      <td>15.533017</td>\n",
       "    </tr>\n",
       "    <tr>\n",
       "      <th>33</th>\n",
       "      <td>4.459309</td>\n",
       "      <td>6.659611</td>\n",
       "      <td>-6.154207</td>\n",
       "      <td>6.585718</td>\n",
       "    </tr>\n",
       "    <tr>\n",
       "      <th>34</th>\n",
       "      <td>5.189292</td>\n",
       "      <td>8.893134</td>\n",
       "      <td>-6.142464</td>\n",
       "      <td>2.902871</td>\n",
       "    </tr>\n",
       "    <tr>\n",
       "      <th>35</th>\n",
       "      <td>3.330933</td>\n",
       "      <td>3.763984</td>\n",
       "      <td>-6.172920</td>\n",
       "      <td>5.556108</td>\n",
       "    </tr>\n",
       "    <tr>\n",
       "      <th>36</th>\n",
       "      <td>2.765983</td>\n",
       "      <td>2.714476</td>\n",
       "      <td>-5.913945</td>\n",
       "      <td>3.233212</td>\n",
       "    </tr>\n",
       "    <tr>\n",
       "      <th>37</th>\n",
       "      <td>3.048623</td>\n",
       "      <td>2.170875</td>\n",
       "      <td>-6.971227</td>\n",
       "      <td>3.855039</td>\n",
       "    </tr>\n",
       "    <tr>\n",
       "      <th>38</th>\n",
       "      <td>4.750087</td>\n",
       "      <td>4.160171</td>\n",
       "      <td>-5.605216</td>\n",
       "      <td>6.830847</td>\n",
       "    </tr>\n",
       "    <tr>\n",
       "      <th>39</th>\n",
       "      <td>6.578388</td>\n",
       "      <td>8.317746</td>\n",
       "      <td>-6.226064</td>\n",
       "      <td>12.154105</td>\n",
       "    </tr>\n",
       "    <tr>\n",
       "      <th>40</th>\n",
       "      <td>5.469679</td>\n",
       "      <td>2.640900</td>\n",
       "      <td>-5.152984</td>\n",
       "      <td>11.515135</td>\n",
       "    </tr>\n",
       "    <tr>\n",
       "      <th>41</th>\n",
       "      <td>4.921522</td>\n",
       "      <td>3.848014</td>\n",
       "      <td>-5.098133</td>\n",
       "      <td>3.675992</td>\n",
       "    </tr>\n",
       "    <tr>\n",
       "      <th>42</th>\n",
       "      <td>3.798156</td>\n",
       "      <td>7.946382</td>\n",
       "      <td>-6.981911</td>\n",
       "      <td>15.667810</td>\n",
       "    </tr>\n",
       "    <tr>\n",
       "      <th>43</th>\n",
       "      <td>7.251671</td>\n",
       "      <td>7.999686</td>\n",
       "      <td>-6.203220</td>\n",
       "      <td>14.383923</td>\n",
       "    </tr>\n",
       "    <tr>\n",
       "      <th>44</th>\n",
       "      <td>5.075895</td>\n",
       "      <td>5.918222</td>\n",
       "      <td>-5.320411</td>\n",
       "      <td>3.465966</td>\n",
       "    </tr>\n",
       "    <tr>\n",
       "      <th>45</th>\n",
       "      <td>1.168694</td>\n",
       "      <td>7.042681</td>\n",
       "      <td>-5.649090</td>\n",
       "      <td>3.208142</td>\n",
       "    </tr>\n",
       "    <tr>\n",
       "      <th>46</th>\n",
       "      <td>8.014944</td>\n",
       "      <td>7.944350</td>\n",
       "      <td>-6.840610</td>\n",
       "      <td>5.544390</td>\n",
       "    </tr>\n",
       "    <tr>\n",
       "      <th>47</th>\n",
       "      <td>7.367356</td>\n",
       "      <td>1.693015</td>\n",
       "      <td>-5.513244</td>\n",
       "      <td>5.062829</td>\n",
       "    </tr>\n",
       "    <tr>\n",
       "      <th>48</th>\n",
       "      <td>3.811336</td>\n",
       "      <td>4.242097</td>\n",
       "      <td>-6.579509</td>\n",
       "      <td>4.946658</td>\n",
       "    </tr>\n",
       "    <tr>\n",
       "      <th>49</th>\n",
       "      <td>1.979919</td>\n",
       "      <td>8.280827</td>\n",
       "      <td>-6.346542</td>\n",
       "      <td>8.064935</td>\n",
       "    </tr>\n",
       "    <tr>\n",
       "      <th>51</th>\n",
       "      <td>8.824136</td>\n",
       "      <td>2.575154</td>\n",
       "      <td>-5.005127</td>\n",
       "      <td>5.655205</td>\n",
       "    </tr>\n",
       "    <tr>\n",
       "      <th>52</th>\n",
       "      <td>6.377932</td>\n",
       "      <td>4.770555</td>\n",
       "      <td>-6.942965</td>\n",
       "      <td>15.241405</td>\n",
       "    </tr>\n",
       "    <tr>\n",
       "      <th>53</th>\n",
       "      <td>7.102663</td>\n",
       "      <td>7.391494</td>\n",
       "      <td>-5.819773</td>\n",
       "      <td>3.337663</td>\n",
       "    </tr>\n",
       "    <tr>\n",
       "      <th>54</th>\n",
       "      <td>4.845659</td>\n",
       "      <td>8.682360</td>\n",
       "      <td>-6.095250</td>\n",
       "      <td>15.315110</td>\n",
       "    </tr>\n",
       "    <tr>\n",
       "      <th>55</th>\n",
       "      <td>8.453545</td>\n",
       "      <td>7.678427</td>\n",
       "      <td>-5.146864</td>\n",
       "      <td>4.571459</td>\n",
       "    </tr>\n",
       "    <tr>\n",
       "      <th>56</th>\n",
       "      <td>6.535043</td>\n",
       "      <td>5.268550</td>\n",
       "      <td>-6.841610</td>\n",
       "      <td>15.822759</td>\n",
       "    </tr>\n",
       "    <tr>\n",
       "      <th>57</th>\n",
       "      <td>8.986933</td>\n",
       "      <td>6.427741</td>\n",
       "      <td>-5.004856</td>\n",
       "      <td>2.286952</td>\n",
       "    </tr>\n",
       "  </tbody>\n",
       "</table>\n",
       "</div>"
      ],
      "text/plain": [
       "    Feature1  Feature2  Feature3   Feature4\n",
       "1   4.130044  2.324369 -6.698615   7.741838\n",
       "2   4.229063  1.159379 -5.479135  13.894683\n",
       "3   4.559497  5.479608 -5.921587  17.503290\n",
       "4   4.461068  8.136870 -6.437736   1.423128\n",
       "5   4.910238  3.003071 -6.998611   4.816982\n",
       "6   7.190249  2.493327 -5.726354   9.007512\n",
       "7   5.164890  8.052806 -5.664990  12.204003\n",
       "8   2.953455  3.721036 -6.066510   6.333646\n",
       "9   1.766275  3.823894 -6.842899   4.901148\n",
       "10  7.374155  5.871079 -6.987097  22.116211\n",
       "11  7.401892  3.145317 -5.572253  19.178905\n",
       "12  2.915916  8.505559 -5.939708  12.841430\n",
       "13  7.625371  2.521411 -6.327508   1.996697\n",
       "14  4.735951  1.173085 -5.376948  22.801199\n",
       "15  5.477711  4.587891 -5.337959   5.724000\n",
       "16  3.334560  5.701196 -5.665021  11.586302\n",
       "17  6.703877  3.228762 -6.559760  14.718964\n",
       "18  4.439429  7.071112 -5.052870   2.723607\n",
       "19  5.604164  1.515479 -6.908870  10.137887\n",
       "20  0.709761  3.580129 -5.878497   7.215883\n",
       "21  3.096673  4.590649 -6.270656   5.604372\n",
       "22  2.731464  8.589209 -5.865498   4.642641\n",
       "23  3.945611  2.073585 -5.762368   3.044328\n",
       "24  4.917916  2.166356 -5.311087   7.713711\n",
       "26  6.039418  7.029212 -6.745934   2.924733\n",
       "27  5.261908  3.366370 -5.147274   9.124814\n",
       "28  2.398455  3.548941 -6.577776   7.175464\n",
       "29  3.239405  5.512797 -5.135892   2.558819\n",
       "30  6.131776  4.330014 -5.923856   4.834935\n",
       "31  4.867784  5.929732 -5.645278   8.006550\n",
       "32  4.397108  5.004566 -5.187976  15.533017\n",
       "33  4.459309  6.659611 -6.154207   6.585718\n",
       "34  5.189292  8.893134 -6.142464   2.902871\n",
       "35  3.330933  3.763984 -6.172920   5.556108\n",
       "36  2.765983  2.714476 -5.913945   3.233212\n",
       "37  3.048623  2.170875 -6.971227   3.855039\n",
       "38  4.750087  4.160171 -5.605216   6.830847\n",
       "39  6.578388  8.317746 -6.226064  12.154105\n",
       "40  5.469679  2.640900 -5.152984  11.515135\n",
       "41  4.921522  3.848014 -5.098133   3.675992\n",
       "42  3.798156  7.946382 -6.981911  15.667810\n",
       "43  7.251671  7.999686 -6.203220  14.383923\n",
       "44  5.075895  5.918222 -5.320411   3.465966\n",
       "45  1.168694  7.042681 -5.649090   3.208142\n",
       "46  8.014944  7.944350 -6.840610   5.544390\n",
       "47  7.367356  1.693015 -5.513244   5.062829\n",
       "48  3.811336  4.242097 -6.579509   4.946658\n",
       "49  1.979919  8.280827 -6.346542   8.064935\n",
       "51  8.824136  2.575154 -5.005127   5.655205\n",
       "52  6.377932  4.770555 -6.942965  15.241405\n",
       "53  7.102663  7.391494 -5.819773   3.337663\n",
       "54  4.845659  8.682360 -6.095250  15.315110\n",
       "55  8.453545  7.678427 -5.146864   4.571459\n",
       "56  6.535043  5.268550 -6.841610  15.822759\n",
       "57  8.986933  6.427741 -5.004856   2.286952"
      ]
     },
     "execution_count": 24,
     "metadata": {},
     "output_type": "execute_result"
    }
   ],
   "source": [
    "zxwithoutoutlier.head(55)"
   ]
  },
  {
   "cell_type": "markdown",
   "id": "897dbf36",
   "metadata": {
    "id": "897dbf36"
   },
   "source": [
    "Here we can see the 0th,25th and 50th.... rows are not present cause we added otliers at these positions previously"
   ]
  },
  {
   "cell_type": "code",
   "execution_count": 25,
   "id": "15a702c2",
   "metadata": {
    "colab": {
     "base_uri": "https://localhost:8080/"
    },
    "id": "15a702c2",
    "outputId": "a7d06909-a364-4159-f569-0de8eda885c8"
   },
   "outputs": [
    {
     "data": {
      "text/plain": [
       "(960, 4)"
      ]
     },
     "execution_count": 25,
     "metadata": {},
     "output_type": "execute_result"
    }
   ],
   "source": [
    "zxwithoutoutlier.shape"
   ]
  },
  {
   "cell_type": "markdown",
   "id": "f9b9174b",
   "metadata": {
    "id": "f9b9174b"
   },
   "source": [
    "## Using IQR(Interquartile range) score"
   ]
  },
  {
   "cell_type": "code",
   "execution_count": 26,
   "id": "5cd2b218",
   "metadata": {
    "colab": {
     "base_uri": "https://localhost:8080/"
    },
    "id": "5cd2b218",
    "outputId": "a712b992-d5f2-4e8b-e31f-e04784b0caea"
   },
   "outputs": [
    {
     "name": "stdout",
     "output_type": "stream",
     "text": [
      "Feature1    3.553876\n",
      "Feature2    4.975897\n",
      "Feature3    1.230372\n",
      "Feature4    9.015839\n",
      "dtype: float64\n"
     ]
    }
   ],
   "source": [
    "Q1 = xmwithoutlier.quantile(0.2)\n",
    "Q3 = xmwithoutlier.quantile(0.8)\n",
    "IQR = Q3 - Q1\n",
    "print(IQR)"
   ]
  },
  {
   "cell_type": "code",
   "execution_count": 27,
   "id": "252d666f",
   "metadata": {
    "colab": {
     "base_uri": "https://localhost:8080/",
     "height": 667
    },
    "id": "252d666f",
    "outputId": "c7756d3f-7a20-4380-8ded-99ec0f77e3a3"
   },
   "outputs": [
    {
     "name": "stdout",
     "output_type": "stream",
     "text": [
      "     Feature1  Feature2  Feature3  Feature4\n",
      "0        True     False      True     False\n",
      "1       False     False     False     False\n",
      "2       False     False     False     False\n",
      "3       False     False     False     False\n",
      "4       False     False     False     False\n",
      "..        ...       ...       ...       ...\n",
      "995     False     False     False     False\n",
      "996     False     False     False     False\n",
      "997     False     False     False     False\n",
      "998     False     False     False     False\n",
      "999     False     False     False     False\n",
      "\n",
      "[1000 rows x 4 columns]\n"
     ]
    },
    {
     "data": {
      "text/html": [
       "<div>\n",
       "<style scoped>\n",
       "    .dataframe tbody tr th:only-of-type {\n",
       "        vertical-align: middle;\n",
       "    }\n",
       "\n",
       "    .dataframe tbody tr th {\n",
       "        vertical-align: top;\n",
       "    }\n",
       "\n",
       "    .dataframe thead th {\n",
       "        text-align: right;\n",
       "    }\n",
       "</style>\n",
       "<table border=\"1\" class=\"dataframe\">\n",
       "  <thead>\n",
       "    <tr style=\"text-align: right;\">\n",
       "      <th></th>\n",
       "      <th>Feature1</th>\n",
       "      <th>Feature2</th>\n",
       "      <th>Feature3</th>\n",
       "      <th>Feature4</th>\n",
       "    </tr>\n",
       "  </thead>\n",
       "  <tbody>\n",
       "    <tr>\n",
       "      <th>0</th>\n",
       "      <td>False</td>\n",
       "      <td>True</td>\n",
       "      <td>False</td>\n",
       "      <td>True</td>\n",
       "    </tr>\n",
       "    <tr>\n",
       "      <th>1</th>\n",
       "      <td>False</td>\n",
       "      <td>False</td>\n",
       "      <td>False</td>\n",
       "      <td>False</td>\n",
       "    </tr>\n",
       "    <tr>\n",
       "      <th>2</th>\n",
       "      <td>False</td>\n",
       "      <td>False</td>\n",
       "      <td>False</td>\n",
       "      <td>False</td>\n",
       "    </tr>\n",
       "    <tr>\n",
       "      <th>3</th>\n",
       "      <td>False</td>\n",
       "      <td>False</td>\n",
       "      <td>False</td>\n",
       "      <td>False</td>\n",
       "    </tr>\n",
       "    <tr>\n",
       "      <th>4</th>\n",
       "      <td>False</td>\n",
       "      <td>False</td>\n",
       "      <td>False</td>\n",
       "      <td>False</td>\n",
       "    </tr>\n",
       "    <tr>\n",
       "      <th>...</th>\n",
       "      <td>...</td>\n",
       "      <td>...</td>\n",
       "      <td>...</td>\n",
       "      <td>...</td>\n",
       "    </tr>\n",
       "    <tr>\n",
       "      <th>995</th>\n",
       "      <td>False</td>\n",
       "      <td>False</td>\n",
       "      <td>False</td>\n",
       "      <td>False</td>\n",
       "    </tr>\n",
       "    <tr>\n",
       "      <th>996</th>\n",
       "      <td>False</td>\n",
       "      <td>False</td>\n",
       "      <td>False</td>\n",
       "      <td>False</td>\n",
       "    </tr>\n",
       "    <tr>\n",
       "      <th>997</th>\n",
       "      <td>False</td>\n",
       "      <td>False</td>\n",
       "      <td>False</td>\n",
       "      <td>False</td>\n",
       "    </tr>\n",
       "    <tr>\n",
       "      <th>998</th>\n",
       "      <td>False</td>\n",
       "      <td>False</td>\n",
       "      <td>False</td>\n",
       "      <td>False</td>\n",
       "    </tr>\n",
       "    <tr>\n",
       "      <th>999</th>\n",
       "      <td>False</td>\n",
       "      <td>False</td>\n",
       "      <td>False</td>\n",
       "      <td>False</td>\n",
       "    </tr>\n",
       "  </tbody>\n",
       "</table>\n",
       "<p>1000 rows × 4 columns</p>\n",
       "</div>"
      ],
      "text/plain": [
       "     Feature1  Feature2  Feature3  Feature4\n",
       "0       False      True     False      True\n",
       "1       False     False     False     False\n",
       "2       False     False     False     False\n",
       "3       False     False     False     False\n",
       "4       False     False     False     False\n",
       "..        ...       ...       ...       ...\n",
       "995     False     False     False     False\n",
       "996     False     False     False     False\n",
       "997     False     False     False     False\n",
       "998     False     False     False     False\n",
       "999     False     False     False     False\n",
       "\n",
       "[1000 rows x 4 columns]"
      ]
     },
     "execution_count": 27,
     "metadata": {},
     "output_type": "execute_result"
    }
   ],
   "source": [
    "print(xmwithoutlier < (Q1 - 1.5 * IQR)) or (xmwithoutlier > (Q3 + 1.5 * IQR))"
   ]
  },
  {
   "cell_type": "code",
   "execution_count": 28,
   "id": "c4ef31bb",
   "metadata": {
    "colab": {
     "base_uri": "https://localhost:8080/",
     "height": 423
    },
    "id": "c4ef31bb",
    "outputId": "31d9bf6f-927e-4a4a-89c2-fb6a214aeee2"
   },
   "outputs": [
    {
     "data": {
      "text/html": [
       "<div>\n",
       "<style scoped>\n",
       "    .dataframe tbody tr th:only-of-type {\n",
       "        vertical-align: middle;\n",
       "    }\n",
       "\n",
       "    .dataframe tbody tr th {\n",
       "        vertical-align: top;\n",
       "    }\n",
       "\n",
       "    .dataframe thead th {\n",
       "        text-align: right;\n",
       "    }\n",
       "</style>\n",
       "<table border=\"1\" class=\"dataframe\">\n",
       "  <thead>\n",
       "    <tr style=\"text-align: right;\">\n",
       "      <th></th>\n",
       "      <th>Feature1</th>\n",
       "      <th>Feature2</th>\n",
       "      <th>Feature3</th>\n",
       "      <th>Feature4</th>\n",
       "    </tr>\n",
       "  </thead>\n",
       "  <tbody>\n",
       "    <tr>\n",
       "      <th>1</th>\n",
       "      <td>4.130044</td>\n",
       "      <td>2.324369</td>\n",
       "      <td>-6.698615</td>\n",
       "      <td>7.741838</td>\n",
       "    </tr>\n",
       "    <tr>\n",
       "      <th>2</th>\n",
       "      <td>4.229063</td>\n",
       "      <td>1.159379</td>\n",
       "      <td>-5.479135</td>\n",
       "      <td>13.894683</td>\n",
       "    </tr>\n",
       "    <tr>\n",
       "      <th>3</th>\n",
       "      <td>4.559497</td>\n",
       "      <td>5.479608</td>\n",
       "      <td>-5.921587</td>\n",
       "      <td>17.503290</td>\n",
       "    </tr>\n",
       "    <tr>\n",
       "      <th>4</th>\n",
       "      <td>4.461068</td>\n",
       "      <td>8.136870</td>\n",
       "      <td>-6.437736</td>\n",
       "      <td>1.423128</td>\n",
       "    </tr>\n",
       "    <tr>\n",
       "      <th>5</th>\n",
       "      <td>4.910238</td>\n",
       "      <td>3.003071</td>\n",
       "      <td>-6.998611</td>\n",
       "      <td>4.816982</td>\n",
       "    </tr>\n",
       "    <tr>\n",
       "      <th>...</th>\n",
       "      <td>...</td>\n",
       "      <td>...</td>\n",
       "      <td>...</td>\n",
       "      <td>...</td>\n",
       "    </tr>\n",
       "    <tr>\n",
       "      <th>995</th>\n",
       "      <td>6.739709</td>\n",
       "      <td>8.430566</td>\n",
       "      <td>-5.173167</td>\n",
       "      <td>7.904259</td>\n",
       "    </tr>\n",
       "    <tr>\n",
       "      <th>996</th>\n",
       "      <td>6.587049</td>\n",
       "      <td>2.566936</td>\n",
       "      <td>-6.499349</td>\n",
       "      <td>17.820095</td>\n",
       "    </tr>\n",
       "    <tr>\n",
       "      <th>997</th>\n",
       "      <td>4.625521</td>\n",
       "      <td>8.025549</td>\n",
       "      <td>-5.290160</td>\n",
       "      <td>2.810972</td>\n",
       "    </tr>\n",
       "    <tr>\n",
       "      <th>998</th>\n",
       "      <td>7.760513</td>\n",
       "      <td>7.366398</td>\n",
       "      <td>-6.576235</td>\n",
       "      <td>8.831902</td>\n",
       "    </tr>\n",
       "    <tr>\n",
       "      <th>999</th>\n",
       "      <td>6.274988</td>\n",
       "      <td>1.244029</td>\n",
       "      <td>-6.923268</td>\n",
       "      <td>9.015117</td>\n",
       "    </tr>\n",
       "  </tbody>\n",
       "</table>\n",
       "<p>952 rows × 4 columns</p>\n",
       "</div>"
      ],
      "text/plain": [
       "     Feature1  Feature2  Feature3   Feature4\n",
       "1    4.130044  2.324369 -6.698615   7.741838\n",
       "2    4.229063  1.159379 -5.479135  13.894683\n",
       "3    4.559497  5.479608 -5.921587  17.503290\n",
       "4    4.461068  8.136870 -6.437736   1.423128\n",
       "5    4.910238  3.003071 -6.998611   4.816982\n",
       "..        ...       ...       ...        ...\n",
       "995  6.739709  8.430566 -5.173167   7.904259\n",
       "996  6.587049  2.566936 -6.499349  17.820095\n",
       "997  4.625521  8.025549 -5.290160   2.810972\n",
       "998  7.760513  7.366398 -6.576235   8.831902\n",
       "999  6.274988  1.244029 -6.923268   9.015117\n",
       "\n",
       "[952 rows x 4 columns]"
      ]
     },
     "execution_count": 28,
     "metadata": {},
     "output_type": "execute_result"
    }
   ],
   "source": [
    "ixwithoutoutlier = xmwithoutlier[~((xmwithoutlier < (Q1 - 1.5 * IQR)) |(xmwithoutlier > (Q3 + 1.5 * IQR))).any(axis=1)]\n",
    "ixwithoutoutlier"
   ]
  },
  {
   "cell_type": "markdown",
   "id": "49d31750",
   "metadata": {
    "id": "49d31750"
   },
   "source": [
    "## Effect of outliers on normalization of covariates"
   ]
  },
  {
   "cell_type": "markdown",
   "id": "d7af2d90",
   "metadata": {
    "id": "d7af2d90"
   },
   "source": [
    "Let's see the effect on min max normalization"
   ]
  },
  {
   "cell_type": "markdown",
   "id": "ad3c8da4",
   "metadata": {
    "id": "ad3c8da4"
   },
   "source": [
    "$$\n",
    "    X_{norm} =  \\frac{X - X_{min}}{X_{max}-X_{min}}\\\n",
    "$$"
   ]
  },
  {
   "cell_type": "markdown",
   "id": "420148db",
   "metadata": {
    "id": "420148db"
   },
   "source": [
    "Let's check the mean and standard deviation of each covariate after normalizing the covariates."
   ]
  },
  {
   "cell_type": "code",
   "execution_count": 29,
   "id": "df8d12fb",
   "metadata": {
    "colab": {
     "base_uri": "https://localhost:8080/"
    },
    "id": "df8d12fb",
    "outputId": "af3d02bd-2964-4f2b-cfcc-e58f46fe6d11"
   },
   "outputs": [
    {
     "name": "stdout",
     "output_type": "stream",
     "text": [
      "For Feature1 Min: 0.0. Mean: 0.4846416138078234. Max: 1.0.  Std :0.15629745360142075 .\n",
      "For Feature2 Min: 0.0. Mean: 0.5121599762173525. Max: 1.0.  Std :0.28929885133753963 .\n",
      "For Feature3 Min: 0.0. Mean: 0.49279566250037693. Max: 1.0.  Std :0.28796671494812326 .\n",
      "For Feature4 Min: 0.0. Mean: 0.18760009874606362. Max: 0.9999999999999999.  Std :0.13070387502661152 .\n"
     ]
    }
   ],
   "source": [
    "scaling = MinMaxScaler()\n",
    "xnorm = pd.DataFrame(scaling.fit_transform(xm))\n",
    "xnorm.columns = xm.columns\n",
    "meanwno = []\n",
    "\n",
    "stdwno = []\n",
    "for col in xnorm.columns:\n",
    "    meanwno.append(xnorm[col].mean())\n",
    "    stdwno.append(xnorm[col].std())\n",
    "    print('For {} Min: {}. Mean: {}. Max: {}.  Std :{} .'.format(col, xnorm[col].min(), xnorm[col].mean(), xnorm[col].max(),  xnorm[col].std()))"
   ]
  },
  {
   "cell_type": "markdown",
   "id": "e25787a9",
   "metadata": {
    "id": "e25787a9"
   },
   "source": [
    "Let's see how the magnitude  of outliers affect the normalization of covariates."
   ]
  },
  {
   "cell_type": "code",
   "execution_count": 30,
   "id": "d75e528f",
   "metadata": {
    "id": "d75e528f"
   },
   "outputs": [],
   "source": [
    "# We are adding outliers greater than maximum value on odd feature number and outliers have magnitude smaller than the minimum value on even feature number.\n",
    "def eon(temp,mcofs):\n",
    "    minn = []\n",
    "    mean = []\n",
    "    std = []\n",
    "    maxx = []\n",
    "    for k in range(len(mcofs)):\n",
    "        xnwithoutlier = temp\n",
    "        minn.append([])\n",
    "        mean.append([])\n",
    "        maxx.append([])\n",
    "        std.append([])\n",
    "        i = 0\n",
    "        for col in xnwithoutlier.columns:\n",
    "            if i % 2 == 0:\n",
    "                xnwithoutlier[col][np.arange(0,1000,25)] = np.random.uniform(mcofs[k]*xnwithoutlier[col].min() - 1,mcofs[k]*xnwithoutlier[col].min(),size = (40))  \n",
    "            else:\n",
    "                xnwithoutlier[col][np.arange(0,1000,25)] = np.random.uniform(mcofs[k]*xnwithoutlier[col].max() - 1,mcofs[k]*xnwithoutlier[col].max(),size = (40))\n",
    "            \n",
    "            mean[k].append(scaling.fit_transform(xnwithoutlier[[col]]).mean()) \n",
    "            std[k].append(scaling.fit_transform(xnwithoutlier[[col]]).std())  \n",
    "            i += 1\n",
    "    return mean, std"
   ]
  },
  {
   "cell_type": "code",
   "execution_count": 31,
   "id": "40249754",
   "metadata": {
    "colab": {
     "base_uri": "https://localhost:8080/",
     "height": 236
    },
    "id": "40249754",
    "outputId": "5b41cbda-106e-41cf-c00a-e5f30288fb41"
   },
   "outputs": [
    {
     "data": {
      "text/html": [
       "<div>\n",
       "<style scoped>\n",
       "    .dataframe tbody tr th:only-of-type {\n",
       "        vertical-align: middle;\n",
       "    }\n",
       "\n",
       "    .dataframe tbody tr th {\n",
       "        vertical-align: top;\n",
       "    }\n",
       "\n",
       "    .dataframe thead th {\n",
       "        text-align: right;\n",
       "    }\n",
       "</style>\n",
       "<table border=\"1\" class=\"dataframe\">\n",
       "  <thead>\n",
       "    <tr style=\"text-align: right;\">\n",
       "      <th></th>\n",
       "      <th>Feature</th>\n",
       "      <th>Mean without outlier</th>\n",
       "      <th>Mean for coef: 1.5</th>\n",
       "      <th>Mean for coef: 2</th>\n",
       "      <th>Mean for coef: 2.5</th>\n",
       "      <th>Std without outlier</th>\n",
       "      <th>Std for coef: 1.5</th>\n",
       "      <th>Std for coef: 2</th>\n",
       "      <th>Std for coef: 2.5</th>\n",
       "    </tr>\n",
       "  </thead>\n",
       "  <tbody>\n",
       "    <tr>\n",
       "      <th>0</th>\n",
       "      <td>Feature1</td>\n",
       "      <td>0.484642</td>\n",
       "      <td>0.522248</td>\n",
       "      <td>0.613840</td>\n",
       "      <td>0.743624</td>\n",
       "      <td>0.156297</td>\n",
       "      <td>0.169379</td>\n",
       "      <td>0.161030</td>\n",
       "      <td>0.163003</td>\n",
       "    </tr>\n",
       "    <tr>\n",
       "      <th>1</th>\n",
       "      <td>Feature2</td>\n",
       "      <td>0.512160</td>\n",
       "      <td>0.355931</td>\n",
       "      <td>0.192245</td>\n",
       "      <td>0.099506</td>\n",
       "      <td>0.289299</td>\n",
       "      <td>0.219840</td>\n",
       "      <td>0.183732</td>\n",
       "      <td>0.185560</td>\n",
       "    </tr>\n",
       "    <tr>\n",
       "      <th>2</th>\n",
       "      <td>Feature3</td>\n",
       "      <td>0.492796</td>\n",
       "      <td>0.812479</td>\n",
       "      <td>0.909587</td>\n",
       "      <td>0.942847</td>\n",
       "      <td>0.287967</td>\n",
       "      <td>0.174141</td>\n",
       "      <td>0.182443</td>\n",
       "      <td>0.190995</td>\n",
       "    </tr>\n",
       "    <tr>\n",
       "      <th>3</th>\n",
       "      <td>Feature4</td>\n",
       "      <td>0.187600</td>\n",
       "      <td>0.160039</td>\n",
       "      <td>0.099987</td>\n",
       "      <td>0.063999</td>\n",
       "      <td>0.130704</td>\n",
       "      <td>0.190406</td>\n",
       "      <td>0.187840</td>\n",
       "      <td>0.191537</td>\n",
       "    </tr>\n",
       "  </tbody>\n",
       "</table>\n",
       "</div>"
      ],
      "text/plain": [
       "    Feature  Mean without outlier  Mean for coef: 1.5  Mean for coef: 2  \\\n",
       "0  Feature1              0.484642            0.522248          0.613840   \n",
       "1  Feature2              0.512160            0.355931          0.192245   \n",
       "2  Feature3              0.492796            0.812479          0.909587   \n",
       "3  Feature4              0.187600            0.160039          0.099987   \n",
       "\n",
       "   Mean for coef: 2.5  Std without outlier  Std for coef: 1.5  \\\n",
       "0            0.743624             0.156297           0.169379   \n",
       "1            0.099506             0.289299           0.219840   \n",
       "2            0.942847             0.287967           0.174141   \n",
       "3            0.063999             0.130704           0.190406   \n",
       "\n",
       "   Std for coef: 2  Std for coef: 2.5  \n",
       "0         0.161030           0.163003  \n",
       "1         0.183732           0.185560  \n",
       "2         0.182443           0.190995  \n",
       "3         0.187840           0.191537  "
      ]
     },
     "execution_count": 31,
     "metadata": {},
     "output_type": "execute_result"
    }
   ],
   "source": [
    "normtable = pd.DataFrame({'Feature':[],\n",
    "                          \n",
    "                         'Mean without outlier':[],\n",
    "                         'Mean for coef: 1.5': [],\n",
    "                         'Mean for coef: 2':[],\n",
    "                         'Mean for coef: 2.5':[],\n",
    "                                          \n",
    "                         'Std without outlier':[],\n",
    "                         'Std for coef: 1.5': [],\n",
    "                         'Std for coef: 2':[],\n",
    "                         'Std for coef: 2.5':[]})\n",
    "                         \n",
    "normtable['Mean without outlier'] = meanwno\n",
    "normtable['Std without outlier'] = stdwno\n",
    "normtable['Feature'] = xm.columns\n",
    "\n",
    "mcofs = [1.5,2,2.5]\n",
    "ele = np.array(eon(copy.deepcopy(xm),mcofs))\n",
    "\n",
    "normtable.iloc[:, 2:5] = ele[0].T\n",
    "normtable.iloc[:, 6:] = ele[1].T\n",
    "normtable  "
   ]
  },
  {
   "cell_type": "markdown",
   "id": "OvqnXaQrUzPE",
   "metadata": {
    "id": "OvqnXaQrUzPE"
   },
   "source": [
    "for coef N means, the range of outliers used are in range of (N* x.min() - 1, N* x.min) for Feature1 and Feature4 & for Feature1 and Feature3 range of outliers are in range of (N* x.max() - 1, N* x.max)."
   ]
  },
  {
   "cell_type": "code",
   "execution_count": null,
   "id": "9ae7796a",
   "metadata": {
    "id": "9ae7796a"
   },
   "outputs": [],
   "source": []
  }
 ],
 "metadata": {
  "colab": {
   "collapsed_sections": [],
   "name": "Task 2 - Linear Regression - Outliers (1).ipynb",
   "provenance": []
  },
  "kernelspec": {
   "display_name": "Python 3 (ipykernel)",
   "language": "python",
   "name": "python3"
  },
  "language_info": {
   "codemirror_mode": {
    "name": "ipython",
    "version": 3
   },
   "file_extension": ".py",
   "mimetype": "text/x-python",
   "name": "python",
   "nbconvert_exporter": "python",
   "pygments_lexer": "ipython3",
   "version": "3.9.7"
  }
 },
 "nbformat": 4,
 "nbformat_minor": 5
}
